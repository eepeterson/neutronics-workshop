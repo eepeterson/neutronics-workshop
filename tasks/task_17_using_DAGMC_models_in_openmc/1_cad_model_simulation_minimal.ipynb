{
 "cells": [
  {
   "cell_type": "markdown",
   "metadata": {},
   "source": [
    "# Simple CAD model simulation\n",
    "\n",
    "In this example we make use of a DAGMC neutronics geometry that has been made in the previous tasks.\n",
    "\n",
    "This task simply loads up the DAGMC h5m file into OpenMC to show how one makes an openmc.Model\n",
    "\n",
    "This specific example is an absolute minimal example, others in this same task show a few more additions on top of this."
   ]
  },
  {
   "cell_type": "code",
   "execution_count": null,
   "metadata": {},
   "outputs": [],
   "source": [
    "import openmc\n",
    "from pathlib import Path\n",
    "\n",
    "# Setting the cross section path to the correct location in the docker image.\n",
    "# If you are running this outside the docker image you will have to change this path to your local cross section path.\n",
    "openmc.config['cross_sections'] = Path.home() / 'nuclear_data' / 'cross_sections.xml'"
   ]
  },
  {
   "cell_type": "markdown",
   "metadata": {},
   "source": [
    "We need to load up the DAGMC file into a CSG containing cell.\n",
    "\n",
    "There are several ways to do this however this is the most concise. Other methods are shown in the other examples.\n",
    "\n",
    "Here we reply on openmc to automatically make a bounding CSG cell that just fits around our DAGMC geometry.\n",
    "\n",
    "The [bounded_universe()]() method does accept some user arguments for padding and other options so I encourage you to checkout the docs for that method."
   ]
  },
  {
   "cell_type": "code",
   "execution_count": null,
   "metadata": {},
   "outputs": [],
   "source": [
    "dag_universe = openmc.DAGMCUniverse(filename='dagmc.h5m')\n",
    "\n",
    "csg_with_dag_inside = dag_universe.bounded_universe()\n",
    "\n",
    "my_geometry = openmc.Geometry(csg_with_dag_inside)"
   ]
  },
  {
   "cell_type": "markdown",
   "metadata": {},
   "source": [
    "When can plot the geometry at this stage just to check it looks as expected."
   ]
  },
  {
   "cell_type": "markdown",
   "metadata": {},
   "source": [
    "The next step is to make materials for the model.\n",
    "\n",
    "The DAGMC file contains material tags which are just string values to identify the material for each volume.\n",
    "\n",
    "We actually know these tag names as we made this model in the earlier example but let us find them using openmc anyway."
   ]
  },
  {
   "cell_type": "code",
   "execution_count": null,
   "metadata": {},
   "outputs": [],
   "source": [
    "print(dag_universe.material_names)"
   ]
  },
  {
   "cell_type": "markdown",
   "metadata": {},
   "source": [
    "Now we have the names we should make materials for each name tag.\n",
    "\n",
    "This DAGMC file contains a single material tag so we will just make one material"
   ]
  },
  {
   "cell_type": "code",
   "execution_count": null,
   "metadata": {},
   "outputs": [],
   "source": [
    "\n",
    "material_iron = openmc.Material(name=\"mat1\")  #  <--- the name of this material must match the available name in the DAGMC file\n",
    "material_iron.add_nuclide(\"Fe56\", 1, \"ao\")\n",
    "material_iron.set_density(\"g/cm3\", 7)\n",
    "\n",
    "\n",
    "my_materials = openmc.Materials([material_iron])"
   ]
  },
  {
   "cell_type": "markdown",
   "metadata": {},
   "source": [
    "Next we make a simple source\n",
    "\n",
    "- Using default position (0,0,0 which is inside the CSG cell)\n",
    "- Using default directions (isotropic)\n",
    "- The center of the DAGMC geometry is used to avoid birthing neutrons outside the geometry.\n"
   ]
  },
  {
   "cell_type": "code",
   "execution_count": null,
   "metadata": {},
   "outputs": [],
   "source": [
    "\n",
    "my_source = openmc.IndependentSource()\n",
    "my_source.energy = openmc.stats.Discrete([14e6], [1])\n",
    "my_source.space = openmc.stats.Point(dag_universe.bounding_box.center)\n"
   ]
  },
  {
   "cell_type": "markdown",
   "metadata": {},
   "source": [
    "Next we can make a normal openmc.Settings object and then we have all the components needed to transport particles through the DAGMC geometry "
   ]
  },
  {
   "cell_type": "code",
   "execution_count": null,
   "metadata": {},
   "outputs": [],
   "source": [
    "my_settings = openmc.Settings(\n",
    "    batches=10,\n",
    "    particles=50,\n",
    "    run_mode=\"fixed source\",\n",
    "    source=my_source,\n",
    ")"
   ]
  },
  {
   "cell_type": "markdown",
   "metadata": {},
   "source": [
    "Now we can combine the geometry, materials and settings and run the model"
   ]
  },
  {
   "cell_type": "code",
   "execution_count": null,
   "metadata": {},
   "outputs": [],
   "source": [
    "my_model = openmc.Model(\n",
    "    geometry=my_geometry,\n",
    "    materials=my_materials,\n",
    "    settings=my_settings\n",
    ")\n",
    "\n",
    "my_model.run()"
   ]
  },
  {
   "cell_type": "markdown",
   "metadata": {},
   "source": [
    "In subsequent tasks we will add tallies to DAGMC models.\n",
    "\n",
    "This task aimed to make a DAGMC file into a OpenMC geometry.\n",
    "\n",
    "We also learned how to put the source in the middle of the DAGMC model and how to bound the DAGMC model into a CSG universe."
   ]
  }
 ],
 "metadata": {
  "kernelspec": {
   "display_name": "neutronicsworkshop",
   "language": "python",
   "name": "python3"
  },
  "language_info": {
   "codemirror_mode": {
    "name": "ipython",
    "version": 3
   },
   "file_extension": ".py",
   "mimetype": "text/x-python",
   "name": "python",
   "nbconvert_exporter": "python",
   "pygments_lexer": "ipython3",
   "version": "3.12.2"
  }
 },
 "nbformat": 4,
 "nbformat_minor": 2
}
