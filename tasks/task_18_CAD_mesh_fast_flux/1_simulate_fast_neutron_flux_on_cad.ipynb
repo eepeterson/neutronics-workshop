{
 "cells": [
  {
   "cell_type": "markdown",
   "metadata": {},
   "source": [
    "# Simulation of fast neutron flux\n",
    "\n",
    "Fast neutron flux is of particular interest to fusion neutronics analysis as fast neutrons are able to undergo nuclear reactions with nuclei (threshold reactions) that slower neutrons can not.\n",
    "\n",
    "The fast neutron flux is used to estimate super conducting magnet lifetime amount other things\n",
    "\n",
    "First import OpenMC and configure the nuclear data path"
   ]
  },
  {
   "cell_type": "code",
   "execution_count": null,
   "metadata": {},
   "outputs": [],
   "source": [
    "import openmc\n",
    "from pathlib import Path\n",
    "# Setting the cross section path to the correct location in the docker image.\n",
    "# If you are running this outside the docker image you will have to change this path to your local cross section path.\n",
    "openmc.config['cross_sections'] = Path.home() / 'nuclear_data' / 'cross_sections.xml'"
   ]
  },
  {
   "cell_type": "code",
   "execution_count": null,
   "metadata": {},
   "outputs": [],
   "source": [
    "import openmc\n",
    "\n",
    "dag_univ = openmc.DAGMCUniverse(filename=\"dagmc.h5m\").bounded_universe(padding_distance=1)\n",
    "\n",
    "umesh = openmc.UnstructuredMesh(\"dagmc.vtk\", library=\"moab\")\n",
    "mesh_filter = openmc.MeshFilter(umesh)\n",
    "energy_filter = openmc.EnergyFilter([10.0e6, 20.0e6])  # filtering neutrons between 10MeV and 20MeV, this is just an example and your definition of fast neutron may vary\n",
    "\n",
    "tally = openmc.Tally(name=\"unstructured_mesh_tally\")\n",
    "tally.filters = [mesh_filter, energy_filter]\n",
    "tally.scores = [\"flux\"]\n",
    "my_tallies = openmc.Tallies([tally])\n",
    "\n",
    "mat1 = openmc.Material(name='mat1')\n",
    "mat1.add_nuclide(\"H1\", 1, percent_type=\"ao\")\n",
    "mat1.set_density(\"g/cm3\", 0.001)\n",
    "my_materials = openmc.Materials([mat1])\n",
    "\n",
    "my_geometry = openmc.Geometry(root=dag_univ)\n",
    "\n",
    "my_settings = openmc.Settings()\n",
    "my_settings.batches = 10\n",
    "my_settings.particles = 5000\n",
    "my_settings.run_mode = \"fixed source\"\n",
    "\n",
    "# Create a DT point source\n",
    "my_source = openmc.IndependentSource()\n",
    "my_source.space = openmc.stats.Point((0, 0, 0.5))  # this is the center of the geometry\n",
    "my_source.angle = openmc.stats.Isotropic()\n",
    "my_source.energy = openmc.stats.Discrete([14e6], [1])\n",
    "my_settings.source = my_source\n",
    "\n",
    "model = openmc.model.Model(my_geometry, my_materials, my_settings, my_tallies)\n",
    "sp_filename = model.run()\n",
    "\n",
    "sp = openmc.StatePoint(sp_filename)\n",
    "\n",
    "tally_result = sp.get_tally(name=\"unstructured_mesh_tally\")\n",
    "\n",
    "# It is nessecary to get the mesh from statepoint from as it contains more information than the mesh loaded from the vtk file. \n",
    "\n",
    "umesh_from_sp = tally_result.find_filter(openmc.MeshFilter).mesh\n",
    "\n",
    "flux_mean = tally_result.get_values(scores=[\"flux\"], value=\"mean\").reshape(umesh_from_sp.dimension)\n",
    "umesh_from_sp.write_data_to_vtk(filename=\"tally.vtk\", datasets={\"mean\": flux_mean})"
   ]
  }
 ],
 "metadata": {
  "kernelspec": {
   "display_name": "openmc_dev_2",
   "language": "python",
   "name": "python3"
  },
  "language_info": {
   "name": "python",
   "version": "3.12.8"
  }
 },
 "nbformat": 4,
 "nbformat_minor": 2
}
