{
 "cells": [
  {
   "cell_type": "markdown",
   "metadata": {},
   "source": [
    "# Shutdown dose rate D1S method\n",
    "\n",
    "This script simulates D1S method of shut down dose rate on a simple CSG model with one aluminum sphere and one iron sphere.\n",
    "\n",
    "More details on D1S method in the OpenMC documentation\n",
    "https://docs.openmc.org/en/stable/usersguide/decay_sources.html#direct-1-step-d1s-calculations\n"
   ]
  },
  {
   "cell_type": "code",
   "execution_count": null,
   "metadata": {},
   "outputs": [],
   "source": [
    "\n",
    "import openmc\n",
    "import numpy as np\n",
    "from openmc.deplete import d1s\n",
    "from pathlib import Path\n",
    "import matplotlib.pyplot as plt\n",
    "from matplotlib.colors import LogNorm\n",
    "import math\n",
    "\n",
    "import openmc\n",
    "from openmc.data.data import _HALF_LIFE\n",
    "from pathlib import Path\n",
    "# Setting the cross section path to the correct location in the docker image.\n",
    "# If you are running this outside the docker image you will have to change this path to your local cross section path.\n",
    "openmc.config['cross_sections'] = Path.home() / 'nuclear_data' / 'cross_sections.xml'\n",
    "# the chain file was downloaded with\n",
    "# pip install openmc_data\n",
    "# download_endf_chain -r b8.0\n",
    "openmc.config['chain_file'] = Path.home() / 'nuclear_data' / 'chain-endf-b8.0.xml'\n"
   ]
  },
  {
   "cell_type": "markdown",
   "metadata": {},
   "source": [
    "Make the materials\n",
    "\n",
    "Note that they need the volume setting but don't need to be made depletable"
   ]
  },
  {
   "cell_type": "code",
   "execution_count": null,
   "metadata": {},
   "outputs": [],
   "source": [
    "# We make a iron material which should produce a few activation products\n",
    "mat_iron = openmc.Material()\n",
    "mat_iron.add_nuclide(\"Al27\", 1.0)\n",
    "mat_iron.set_density(\"g/cm3\", 8.0)\n",
    "mat_iron.volume = 2* (4/3) * math.pi**3\n",
    "\n",
    "# We make a Al material which should produce a few different activation products\n",
    "mat_aluminum = openmc.Material()\n",
    "mat_aluminum.add_nuclide(\"Fe56\", 1.0)\n",
    "mat_aluminum.set_density(\"g/cm3\", 2.7)\n",
    "mat_aluminum.volume = 3* (4/3) * math.pi**3"
   ]
  },
  {
   "cell_type": "markdown",
   "metadata": {},
   "source": [
    "Now we make a simple geometry, a cube with two sphere inside.\n",
    "\n",
    "The sphere have different materials and the cube is the edge of the simulation space."
   ]
  },
  {
   "cell_type": "code",
   "execution_count": null,
   "metadata": {},
   "outputs": [],
   "source": [
    "sphere_surf_1 = openmc.Sphere(r=2, y0=10, x0=-10)\n",
    "sphere_region_1 = -sphere_surf_1\n",
    "sphere_cell_1 = openmc.Cell(region=sphere_region_1, fill=mat_iron)\n",
    "\n",
    "sphere_surf_2 = openmc.Sphere(r=3, y0=-10, x0=10)\n",
    "sphere_region_2 = -sphere_surf_2\n",
    "sphere_cell_2 = openmc.Cell(region=sphere_region_2, fill=mat_aluminum)\n",
    "\n",
    "xplane_surf_1 = openmc.XPlane(x0=-20, boundary_type='vacuum')\n",
    "xplane_surf_2 = openmc.XPlane(x0=20, boundary_type='vacuum')\n",
    "yplane_surf_1 = openmc.YPlane(y0=-20, boundary_type='vacuum')\n",
    "yplane_surf_2 = openmc.YPlane(y0=20, boundary_type='vacuum')\n",
    "zplane_surf_1 = openmc.ZPlane(z0=-20, boundary_type='vacuum')\n",
    "zplane_surf_2 = openmc.ZPlane(z0=20, boundary_type='vacuum')\n",
    "sphere_region_3 = +xplane_surf_1 & -xplane_surf_2 & +yplane_surf_1 & -yplane_surf_2  & +zplane_surf_1 & -zplane_surf_2 & +sphere_surf_1 & +sphere_surf_2  # void space\n",
    "sphere_cell_3 = openmc.Cell(region=sphere_region_3)\n",
    "\n",
    "my_geometry = openmc.Geometry([sphere_cell_1, sphere_cell_2, sphere_cell_3])\n",
    "\n",
    "my_materials = openmc.Materials([mat_iron, mat_aluminum])\n"
   ]
  },
  {
   "cell_type": "markdown",
   "metadata": {},
   "source": [
    "Next we make a minimal source term.\n",
    "\n",
    "A 14MeV neutron source that activates material, located in the center of the geometry"
   ]
  },
  {
   "cell_type": "code",
   "execution_count": null,
   "metadata": {},
   "outputs": [],
   "source": [
    "my_source = openmc.IndependentSource()\n",
    "my_source.space = openmc.stats.Point((0, 0, 0))\n",
    "my_source.angle = openmc.stats.Isotropic()\n",
    "my_source.energy = openmc.stats.Discrete([14.06e6], [1])\n",
    "my_source.particle = \"neutron\"\n"
   ]
  },
  {
   "cell_type": "markdown",
   "metadata": {},
   "source": [
    "Then we make the simulation settings, note that photon_transport is enabled and a D1S specific setting ```use_decay_photons``` is used"
   ]
  },
  {
   "cell_type": "code",
   "execution_count": null,
   "metadata": {},
   "outputs": [],
   "source": [
    "# settings for the neutron simulation with decay photons\n",
    "settings = openmc.Settings()\n",
    "settings.run_mode = \"fixed source\"\n",
    "settings.particles = 1000000\n",
    "settings.batches = 10\n",
    "settings.source = my_source\n",
    "settings.photon_transport = True\n",
    "\n",
    "# D1S specific setting\n",
    "settings.use_decay_photons = True"
   ]
  },
  {
   "cell_type": "markdown",
   "metadata": {},
   "source": [
    "We now make the photon dose tally which uses a regular mesh so that we can make a dose map"
   ]
  },
  {
   "cell_type": "code",
   "execution_count": null,
   "metadata": {},
   "outputs": [],
   "source": [
    "# creates a regular mesh that surrounds the geometry for the tally\n",
    "mesh = openmc.RegularMesh().from_domain(\n",
    "    my_geometry,\n",
    "    dimension=[100, 100, 1],\n",
    "    # 100 voxels in x and y axis directions and 1 voxel in z as we want a xy plot\n",
    ")\n",
    "\n",
    "# adding a dose tally on a regular mesh\n",
    "# AP, PA, LLAT, RLAT, ROT, ISO are ICRP incident dose field directions, AP is front facing\n",
    "energies, pSv_cm2 = openmc.data.dose_coefficients(particle=\"photon\", geometry=\"AP\")\n",
    "dose_filter = openmc.EnergyFunctionFilter(\n",
    "    energies, pSv_cm2, interpolation=\"cubic\"  # interpolation method recommended by ICRP\n",
    ")\n",
    "particle_filter = openmc.ParticleFilter([\"photon\"])\n",
    "mesh_filter = openmc.MeshFilter(mesh)\n",
    "dose_tally = openmc.Tally()\n",
    "dose_tally.filters = [particle_filter, mesh_filter, dose_filter]\n",
    "dose_tally.scores = [\"flux\"]\n",
    "dose_tally.name = \"photon_dose_on_mesh\"\n",
    "\n",
    "tallies = openmc.Tallies([dose_tally])"
   ]
  },
  {
   "cell_type": "markdown",
   "metadata": {},
   "source": [
    "Now we make the model and importantly for D1S we prepare the tallies\n",
    "\n",
    "this run runs the neutron and decay photon steps "
   ]
  },
  {
   "cell_type": "code",
   "execution_count": null,
   "metadata": {},
   "outputs": [],
   "source": [
    "\n",
    "model = openmc.Model(my_geometry, my_materials, settings, tallies)\n",
    "\n",
    "# this adds ParentNuclideFilter to each tally, which the D1S method requires\n",
    "d1s.prepare_tallies(model=model)\n",
    "\n",
    "output_path = model.run()"
   ]
  },
  {
   "cell_type": "markdown",
   "metadata": {},
   "source": [
    "Now we read in the tally"
   ]
  },
  {
   "cell_type": "code",
   "execution_count": null,
   "metadata": {},
   "outputs": [],
   "source": [
    "# Get tally from statepoint\n",
    "with openmc.StatePoint(output_path) as sp:\n",
    "    dose_tally_from_sp = sp.get_tally(name='photon_dose_on_mesh')"
   ]
  },
  {
   "cell_type": "markdown",
   "metadata": {},
   "source": [
    "This section defines the neutron pulse schedule timesteps to take dose tally measurements.\n",
    "\n",
    "Also some D1S specific steps to get the time correction factors that we use to modify the tally result later."
   ]
  },
  {
   "cell_type": "code",
   "execution_count": null,
   "metadata": {},
   "outputs": [],
   "source": [
    "\n",
    "timesteps_and_source_rates = [\n",
    "    (1, 1e18),  # 1 second\n",
    "    (60*20, 0),  # 20 minutes\n",
    "    (60*20, 0),  # 40 minutes\n",
    "    (60*20, 0),  # 60 minutes\n",
    "    (60*20, 0),  # 80 minutes\n",
    "    (60*20, 0),  # 100 minutes\n",
    "]\n",
    "\n",
    "timesteps = [item[0] for item in timesteps_and_source_rates]\n",
    "source_rates = [item[1] for item in timesteps_and_source_rates]\n",
    "\n",
    "# this gets all the unstable nuclides that can be produced during D1S\n",
    "radionuclides = d1s.get_radionuclides(model)\n",
    "\n",
    "# Compute time correction factors based on irradiation schedule\n",
    "time_factors = d1s.time_correction_factors(\n",
    "    nuclides=radionuclides,\n",
    "    timesteps=timesteps,\n",
    "    source_rates=source_rates,\n",
    "    timestep_units = 's'\n",
    ")"
   ]
  },
  {
   "cell_type": "markdown",
   "metadata": {},
   "source": [
    "We then plot the tally for each time in the timesteps of interest\n",
    "\n",
    "note the use of ```apply_time_correction``` which is a D1S specific command"
   ]
  },
  {
   "cell_type": "code",
   "execution_count": null,
   "metadata": {},
   "outputs": [],
   "source": [
    "for i_cool in range(1, len(timesteps)):  # missing the first timestep as it is the irradiation step\n",
    "\n",
    "    # Apply time correction factors\n",
    "    # this includes the source_rates which are in units of neutrons per second\n",
    "    # dose_tally_from_sp is in units of pSv-cm3/source neutron\n",
    "    # corrected tally is now in units of pSv-cm3/second\n",
    "    corrected_tally = d1s.apply_time_correction(\n",
    "        tally=dose_tally_from_sp,\n",
    "        time_correction_factors=time_factors,\n",
    "        index=i_cool,\n",
    "        sum_nuclides=True\n",
    "    )\n",
    "\n",
    "    # multiplication by pico_to_milli converts from (pico) pSv to (milli) mSv\n",
    "    pico_to_milli = 1e-9\n",
    "    \n",
    "    # divided by mesh element volume converts from mSv-cm3 to mSv\n",
    "    volume_normalization = mesh.volumes[0][0][0]\n",
    "    \n",
    "    # this section simply gets the maximum value of the mean tally across all time steps\n",
    "    # and uses this to set the max value of the color bar in the plots\n",
    "    if i_cool == 1:\n",
    "        max_tally_value = max(corrected_tally.mean).flatten()\n",
    "        scaled_max_tally_value = (max_tally_value * pico_to_milli) / volume_normalization\n",
    "\n",
    "    # get a slice of mean values on the xy basis mid z axis\n",
    "    corrected_tally_mean = corrected_tally.get_reshaped_data(value='mean', expand_dims=True).squeeze()\n",
    "    # create a plot of the mean flux values\n",
    "    \n",
    "    scaled_corrected_tally_mean = (corrected_tally_mean * pico_to_milli) / volume_normalization\n",
    "    \n",
    "    fig, ax1 = plt.subplots(figsize=(6, 4))\n",
    "    plot_1 = ax1.imshow(\n",
    "        X=scaled_corrected_tally_mean.T,\n",
    "        origin=\"lower\",\n",
    "        extent=mesh.bounding_box.extent['xy'],\n",
    "        norm=LogNorm(vmax=scaled_max_tally_value)\n",
    "    )\n",
    "\n",
    "    ax2 = my_geometry.plot(\n",
    "        outline='only',\n",
    "        extent=my_geometry.bounding_box.extent['xy'],\n",
    "        axes=ax1,  # Use the same axis as ax1\n",
    "        pixels=10_000_00,  #avoids rounded corners on outline\n",
    "    )\n",
    "\n",
    "    time_in_mins = round(sum(timesteps[1:i_cool+1])/(60),2)\n",
    "    max_dose_in_timestep = round(max(scaled_corrected_tally_mean.flatten()), 2)\n",
    "\n",
    "    ax2.set_title(f\"Dose Rate at time {time_in_mins} minutes after irradiation\\nMax dose rate: {max_dose_in_timestep} mSv/s\")\n",
    "    ax2.set_xlim(ax1.get_xlim())\n",
    "    ax2.set_ylim(ax1.get_ylim())\n",
    "    ax2.set_aspect(ax1.get_aspect())  # Match aspect ratio\n",
    "    ax2.set_xlabel(\"X (cm)\")\n",
    "    ax2.set_ylabel(\"Y (cm)\")\n",
    "    cbar = plt.colorbar(plot_1, ax=ax1)\n",
    "    cbar.set_label(\"Dose [milli Sv per second]\")  # Label for the color bar\n",
    "\n",
    "    plt.show()\n",
    "    plt.close()\n"
   ]
  },
  {
   "cell_type": "markdown",
   "metadata": {},
   "source": [
    "One of the really nice aspects of the D1S workflow is the dose values are computed as a post process.\n",
    "\n",
    "This means we don't need to resimulate if we want to change the pulse scheduel"
   ]
  },
  {
   "cell_type": "code",
   "execution_count": null,
   "metadata": {},
   "outputs": [],
   "source": [
    "# Define one irradiation step and one cooling step\n",
    "irradiation_step = (1, 1e18)\n",
    "cooling_step = (60 * 5, 0)  # 5 mins of cooling with no source rate\n",
    "\n",
    "# Build one cycle: irradiation + N cooling steps\n",
    "cooling_steps = [cooling_step] * 24\n",
    "pulse_cycle = [irradiation_step] + cooling_steps\n",
    "\n",
    "# Repeat the cycle 5 times\n",
    "timesteps_and_source_rates = pulse_cycle * 4\n",
    "timesteps = [item[0] for item in timesteps_and_source_rates]\n",
    "source_rates = [item[1] for item in timesteps_and_source_rates]\n",
    "\n",
    "# this gets all the unstable nuclides that can be produced during D1S\n",
    "radionuclides = d1s.get_radionuclides(model)\n",
    "\n",
    "# Compute time correction factors based on irradiation schedule\n",
    "time_factors = d1s.time_correction_factors(\n",
    "    nuclides=radionuclides,\n",
    "    timesteps=timesteps,\n",
    "    source_rates=source_rates,\n",
    "    timestep_units = 's'\n",
    ")\n",
    "\n",
    "scaled_max_tally_values = []\n",
    "for i_cool in range(1, len(timesteps)):  # missing the first timestep as it is the irradiation step\n",
    "\n",
    "    # Apply time correction factors\n",
    "    # this includes the source_rates which are in units of neutrons per second\n",
    "    # dose_tally_from_sp is in units of pSv-cm3/source neutron\n",
    "    # corrected tally is now in units of pSv-cm3/second\n",
    "    corrected_tally = d1s.apply_time_correction(\n",
    "        tally=dose_tally_from_sp,\n",
    "        time_correction_factors=time_factors,\n",
    "        index=i_cool,\n",
    "        sum_nuclides=True\n",
    "    )\n",
    "\n",
    "    # this section simply gets the maximum value of the mean tally across all time steps\n",
    "    scaled_max_tally_values.append((max(corrected_tally.mean).flatten()* pico_to_milli) / volume_normalization)\n",
    "\n",
    "\n"
   ]
  },
  {
   "cell_type": "markdown",
   "metadata": {},
   "source": [
    "This plots the max dose rate at each time step for the 5 pulse decay irradiation.\n",
    "\n",
    "The plot has the shut down dose just after the irradiation and for a few times after each shot to show how the dose decreases.\n",
    "\n",
    "This plot shows shows a sharp drop in the dose rate after the shot, that is caused by some unstable isotopes decaying quickly are the irradiation stops\n",
    "\n",
    "After 5000 seconds the dose rate starts to level out, this is due to longer lived unstable isotopes that have now become the dominant contributor to the dose.\n",
    "\n",
    "We also notice that each shot causes the total dose rate to steadily climb. This is due to the build up of these longer lived unstable isotopes that have not had time to completely decay away before the next pulse of neutrons arrives."
   ]
  },
  {
   "cell_type": "code",
   "execution_count": null,
   "metadata": {},
   "outputs": [],
   "source": [
    "plt.plot(np.cumsum(timesteps[1:]), scaled_max_tally_values)\n",
    "plt.xlabel(\"Time (s)\")\n",
    "plt.ylabel(\"Max Dose Rate (mSv/s)\")\n",
    "plt.title(\"Max Dose Rate Over Time\")\n",
    "plt.grid()\n",
    "plt.show()"
   ]
  },
  {
   "cell_type": "markdown",
   "metadata": {},
   "source": []
  },
  {
   "cell_type": "code",
   "execution_count": null,
   "metadata": {},
   "outputs": [],
   "source": [
    "corrected_tally = d1s.apply_time_correction(\n",
    "    tally=dose_tally_from_sp,\n",
    "    time_correction_factors=time_factors,\n",
    "    index=i_cool,\n",
    "    sum_nuclides=False\n",
    ")\n",
    "\n",
    "# one can get the nuclides from ealier in the code\n",
    "# In this case we get the nuclides from the tally.\n",
    "# This allows us to full detach the post processing from the simulation script.\n",
    "# This is useful if you want to post process a statepoint file and not have the script that made the simulation.\n",
    "parent_nuclide_filter = corrected_tally.find_filter(openmc.ParentNuclideFilter)\n",
    "parent_nuclides = parent_nuclide_filter.bins\n",
    "\n",
    "\n",
    "scaled_max_tally_values_per_nuclide = {str(nuclide): [] for nuclide in parent_nuclides}\n",
    "\n",
    "for i_cool in range(1, len(timesteps)):  # missing the first timestep as it is the irradiation step\n",
    "\n",
    "    # Apply time correction factors\n",
    "    # this includes the source_rates which are in units of neutrons per second\n",
    "    # dose_tally_from_sp is in units of pSv-cm3/source neutron\n",
    "    # corrected tally is now in units of pSv-cm3/second\n",
    "    corrected_tally = d1s.apply_time_correction(\n",
    "        tally=dose_tally_from_sp,\n",
    "        time_correction_factors=time_factors,\n",
    "        index=i_cool,\n",
    "        sum_nuclides=False  # to get the individual nuclides\n",
    "    )\n",
    "    \n",
    "    mean_values_per_nuclide = corrected_tally.mean.squeeze().reshape(len(parent_nuclides), -1)\n",
    "    \n",
    "    for i_nuclide, nuclide in enumerate(parent_nuclides):\n",
    "\n",
    "        # this section simply gets the maximum value of the mean tally across all time steps\n",
    "        max_value_for_nuclide = (max(mean_values_per_nuclide[i_nuclide]).flatten()* pico_to_milli) / volume_normalization\n",
    "        \n",
    "\n",
    "        scaled_max_tally_values_per_nuclide[str(nuclide)].append(float(max_value_for_nuclide[0]))"
   ]
  },
  {
   "cell_type": "markdown",
   "metadata": {},
   "source": [
    "Plotting the dose contribution of the individual isotopes allows us to see that the build up of the longer lived isotopes and identify the main driver for the more long lived dose contribution."
   ]
  },
  {
   "cell_type": "code",
   "execution_count": null,
   "metadata": {},
   "outputs": [],
   "source": [
    "#TODO check the plotted data makes sense\n",
    "\n",
    "plt.figure(figsize=(12, 8))\n",
    "plt.plot(np.cumsum(timesteps[1:]), scaled_max_tally_values, label='total')\n",
    "\n",
    "for i, nuclide in enumerate(parent_nuclides):\n",
    "    if sum(scaled_max_tally_values_per_nuclide[str(nuclide)]) > 2.0:\n",
    "        plt.plot(np.cumsum(timesteps[1:]), scaled_max_tally_values_per_nuclide[str(nuclide)], label=f\"{str(nuclide)} half-life={_HALF_LIFE[str(nuclide).lower()]:.1e}s\")\n",
    "plt.legend()\n",
    "plt.xlabel(\"Time (s)\")\n",
    "plt.yscale('log')\n",
    "# plt.xscale('log')\n",
    "plt.ylabel(\"Max Dose Rate (mSv/s)\")\n",
    "plt.title(\"Max Dose Rate Over Time\")\n",
    "plt.grid()\n",
    "plt.show()"
   ]
  },
  {
   "cell_type": "markdown",
   "metadata": {},
   "source": [
    "A good place to start when reading further on the topic of D1S is the original paper\n",
    "[https://www.sciencedirect.com/science/article/abs/pii/S0920379601001880](https://www.sciencedirect.com/science/article/abs/pii/S0920379601001880)\n",
    "\n",
    "As of yet the D1S publication is not live (May 2025) but in the mean time I would recommend this paper on the validation of the R2S method with OpenMC [https://iopscience.iop.org/article/10.1088/1741-4326/ad32dd](https://iopscience.iop.org/article/10.1088/1741-4326/ad32dd)"
   ]
  }
 ],
 "metadata": {
  "kernelspec": {
   "display_name": ".neutronicsworkshop2",
   "language": "python",
   "name": "python3"
  },
  "language_info": {
   "codemirror_mode": {
    "name": "ipython",
    "version": 3
   },
   "file_extension": ".py",
   "mimetype": "text/x-python",
   "name": "python",
   "nbconvert_exporter": "python",
   "pygments_lexer": "ipython3",
   "version": "3.11.0rc1"
  }
 },
 "nbformat": 4,
 "nbformat_minor": 2
}
