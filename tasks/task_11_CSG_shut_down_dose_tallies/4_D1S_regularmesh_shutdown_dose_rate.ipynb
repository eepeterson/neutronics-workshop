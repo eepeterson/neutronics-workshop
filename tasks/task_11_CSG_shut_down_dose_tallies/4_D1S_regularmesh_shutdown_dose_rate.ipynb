{
 "cells": [
  {
   "cell_type": "markdown",
   "metadata": {},
   "source": [
    "# Shutdown dose rate D1S method\n",
    "\n",
    "This script simulates D1S method of shut down dose rate on a simple CSG model with one aluminum sphere and one iron sphere.\n",
    "\n",
    "More details on D1S method in the OpenMC documentation\n",
    "https://docs.openmc.org/en/stable/usersguide/decay_sources.html#direct-1-step-d1s-calculations\n"
   ]
  },
  {
   "cell_type": "code",
   "execution_count": null,
   "metadata": {},
   "outputs": [],
   "source": [
    "\n",
    "import openmc\n",
    "from openmc.deplete import d1s\n",
    "from pathlib import Path\n",
    "import matplotlib.pyplot as plt\n",
    "from matplotlib.colors import LogNorm\n",
    "import math\n",
    "\n",
    "import openmc\n",
    "from pathlib import Path\n",
    "# Setting the cross section path to the correct location in the docker image.\n",
    "# If you are running this outside the docker image you will have to change this path to your local cross section path.\n",
    "openmc.config['cross_sections'] = Path.home() / 'nuclear_data' / 'cross_sections.xml'\n",
    "# the chain file was downloaded with\n",
    "# pip install openmc_data\n",
    "# download_endf_chain -r b8.0\n",
    "openmc.config['chain_file'] = Path.home() / 'nuclear_data' / 'chain-endf-b8.0.xml'\n"
   ]
  },
  {
   "cell_type": "markdown",
   "metadata": {},
   "source": [
    "Make the materials\n",
    "\n",
    "Note that they need the volume setting but don't need to be made depletable"
   ]
  },
  {
   "cell_type": "code",
   "execution_count": null,
   "metadata": {},
   "outputs": [],
   "source": [
    "# We make a iron material which should produce a few activation products\n",
    "mat_iron = openmc.Material()\n",
    "mat_iron.add_element(\"Fe\", 1.0)\n",
    "mat_iron.set_density(\"g/cm3\", 8.0)\n",
    "mat_iron.volume = 2* (4/3) * math.pi**3\n",
    "\n",
    "# We make a Al material which should produce a few different activation products\n",
    "mat_aluminum = openmc.Material()\n",
    "mat_aluminum.add_element(\"Al\", 1.0)\n",
    "mat_aluminum.set_density(\"g/cm3\", 2.7)\n",
    "mat_aluminum.volume = 3* (4/3) * math.pi**3"
   ]
  },
  {
   "cell_type": "markdown",
   "metadata": {},
   "source": [
    "Now we make a simple geometry, a cube with two sphere inside"
   ]
  },
  {
   "cell_type": "code",
   "execution_count": null,
   "metadata": {},
   "outputs": [],
   "source": [
    "# First we make a simple geometry with three cells, (two with material)\n",
    "sphere_surf_1 = openmc.Sphere(r=2, y0=10, x0=-10)\n",
    "sphere_region_1 = -sphere_surf_1\n",
    "sphere_cell_1 = openmc.Cell(region=sphere_region_1, fill=mat_iron)\n",
    "\n",
    "sphere_surf_2 = openmc.Sphere(r=3, y0=-10, x0=10)\n",
    "sphere_region_2 = -sphere_surf_2\n",
    "sphere_cell_2 = openmc.Cell(region=sphere_region_2, fill=mat_aluminum)\n",
    "\n",
    "xplane_surf_1 = openmc.XPlane(x0=-20, boundary_type='vacuum')\n",
    "xplane_surf_2 = openmc.XPlane(x0=20, boundary_type='vacuum')\n",
    "yplane_surf_1 = openmc.YPlane(y0=-20, boundary_type='vacuum')\n",
    "yplane_surf_2 = openmc.YPlane(y0=20, boundary_type='vacuum')\n",
    "zplane_surf_1 = openmc.ZPlane(z0=-20, boundary_type='vacuum')\n",
    "zplane_surf_2 = openmc.ZPlane(z0=20, boundary_type='vacuum')\n",
    "sphere_region_3 = +xplane_surf_1 & -xplane_surf_2 & +yplane_surf_1 & -yplane_surf_2  & +zplane_surf_1 & -zplane_surf_2 & +sphere_surf_1 & +sphere_surf_2  # void space\n",
    "sphere_cell_3 = openmc.Cell(region=sphere_region_3)\n",
    "\n",
    "\n",
    "my_geometry = openmc.Geometry([sphere_cell_1, sphere_cell_2, sphere_cell_3])\n",
    "\n",
    "my_materials = openmc.Materials([mat_iron, mat_aluminum])\n"
   ]
  },
  {
   "cell_type": "markdown",
   "metadata": {},
   "source": [
    "Next we make a minimal source term"
   ]
  },
  {
   "cell_type": "code",
   "execution_count": null,
   "metadata": {},
   "outputs": [],
   "source": [
    "\n",
    "# 14MeV neutron source that activates material, located in the center of the geometry\n",
    "my_source = openmc.IndependentSource()\n",
    "my_source.space = openmc.stats.Point((0, 0, 0))\n",
    "my_source.angle = openmc.stats.Isotropic()\n",
    "my_source.energy = openmc.stats.Discrete([14.06e6], [1])\n",
    "my_source.particle = \"neutron\"\n"
   ]
  },
  {
   "cell_type": "markdown",
   "metadata": {},
   "source": [
    "Then we make the simulation settings, note that photon_transport is enabled and a D1S specific setting ```use_decay_photons``` is used"
   ]
  },
  {
   "cell_type": "code",
   "execution_count": null,
   "metadata": {},
   "outputs": [],
   "source": [
    "\n",
    "# settings for the neutron simulation with decay photons\n",
    "settings = openmc.Settings()\n",
    "settings.run_mode = \"fixed source\"\n",
    "settings.particles = 1000000\n",
    "settings.batches = 10\n",
    "settings.source = my_source\n",
    "settings.photon_transport = True\n",
    "\n",
    "# D1S specific setting\n",
    "settings.use_decay_photons = True\n",
    "\n"
   ]
  },
  {
   "cell_type": "markdown",
   "metadata": {},
   "source": [
    "We now make the photon dose tally which uses a regular mesh so that we can make a dose map"
   ]
  },
  {
   "cell_type": "code",
   "execution_count": null,
   "metadata": {},
   "outputs": [],
   "source": [
    "\n",
    "# creates a regular mesh that surrounds the geometry for the tally\n",
    "mesh = openmc.RegularMesh().from_domain(\n",
    "    my_geometry,\n",
    "    dimension=[100, 100, 1],\n",
    "    # 100 voxels in x and y axis directions and 1 voxel in z as we want a xy plot\n",
    ")\n",
    "\n",
    "# adding a dose tally on a regular mesh\n",
    "# AP, PA, LLAT, RLAT, ROT, ISO are ICRP incident dose field directions, AP is front facing\n",
    "energies, pSv_cm2 = openmc.data.dose_coefficients(particle=\"photon\", geometry=\"AP\")\n",
    "dose_filter = openmc.EnergyFunctionFilter(\n",
    "    energies, pSv_cm2, interpolation=\"cubic\"  # interpolation method recommended by ICRP\n",
    ")\n",
    "particle_filter = openmc.ParticleFilter([\"photon\"])\n",
    "mesh_filter = openmc.MeshFilter(mesh)\n",
    "dose_tally = openmc.Tally()\n",
    "dose_tally.filters = [particle_filter, mesh_filter, dose_filter]\n",
    "dose_tally.scores = [\"flux\"]\n",
    "dose_tally.name = \"photon_dose_on_mesh\"\n",
    "\n",
    "tallies = openmc.Tallies([dose_tally])"
   ]
  },
  {
   "cell_type": "markdown",
   "metadata": {},
   "source": [
    "Now we make the model and importantly for D1S we prepare the tallies\n",
    "\n",
    "this run runs the neutron and decay photon steps "
   ]
  },
  {
   "cell_type": "code",
   "execution_count": null,
   "metadata": {},
   "outputs": [],
   "source": [
    "\n",
    "model = openmc.Model(my_geometry, my_materials, settings, tallies)\n",
    "\n",
    "d1s.prepare_tallies(model=model)\n",
    "\n",
    "output_path = model.run()"
   ]
  },
  {
   "cell_type": "markdown",
   "metadata": {},
   "source": [
    "Now we read in the tally"
   ]
  },
  {
   "cell_type": "code",
   "execution_count": null,
   "metadata": {},
   "outputs": [],
   "source": [
    "# Get tally from statepoint\n",
    "with openmc.StatePoint(output_path) as sp:\n",
    "    dose_tally_from_sp = sp.get_tally(name='photon_dose_on_mesh')\n",
    "\n"
   ]
  },
  {
   "cell_type": "markdown",
   "metadata": {},
   "source": [
    "This section defines the neutron pulse schedule timesteps to take dose tally measurements.\n",
    "\n",
    "Also some D1S specific steps to get the time correction factors that we use to modify the tally result later."
   ]
  },
  {
   "cell_type": "code",
   "execution_count": null,
   "metadata": {},
   "outputs": [],
   "source": [
    "\n",
    "timesteps_and_source_rates = [\n",
    "    (1, 1e18),  # 1 second\n",
    "    (60*60, 0),  # 1 hour\n",
    "    (60*60, 0),  # 2 hour\n",
    "    (60*60, 0),  # 3 hour\n",
    "    (60*60, 0),  # 4 hour\n",
    "    (60*60, 0),  # 5 hour\n",
    "    (60*60, 0),  # 6 hour\n",
    "    (60*60, 0),  # 7 hour\n",
    "    (60*60, 0),  # 8 hour\n",
    "    (60*60, 0),  # 9 hour\n",
    "    (60*60, 0),  # 10 hour\n",
    "]\n",
    "\n",
    "timesteps = [item[0] for item in timesteps_and_source_rates]\n",
    "source_rates = [item[1] for item in timesteps_and_source_rates]\n",
    "\n",
    "# get_radionuclides\n",
    "radionuclides = d1s.prepare_tallies(model)\n",
    "\n",
    "# Compute time correction factors based on irradiation schedule\n",
    "time_factors = d1s.time_correction_factors(\n",
    "    nuclides=radionuclides,\n",
    "    timesteps=timesteps,\n",
    "    source_rates=source_rates,\n",
    "    timestep_units = 's'\n",
    ")\n"
   ]
  },
  {
   "cell_type": "markdown",
   "metadata": {},
   "source": [
    "We then plot the tally for each time in the timesteps of interest\n",
    "\n",
    "note the use of ```apply_time_correction``` which is a D1S specific command"
   ]
  },
  {
   "cell_type": "code",
   "execution_count": null,
   "metadata": {},
   "outputs": [],
   "source": [
    "\n",
    "# tally.mean is in units of pSv-cm3/source neutron\n",
    "# multiplication by neutrons_per_second changes units to neutron to pSv-cm3/second\n",
    "neutrons_per_second = 1e8\n",
    "\n",
    "# multiplication by pico_to_milli converts from (pico) pSv/second to (milli) mSv/second\n",
    "pico_to_milli = 1e-9\n",
    "\n",
    "# multiplication by mesh element volume converts from dose-cm3/second to dose/second\n",
    "volume_normalization = mesh.volumes[0][0][0]\n",
    "\n",
    "for i_cool in range(1, len(timesteps)):  # missing the first timestep as it is the irradiation step\n",
    "\n",
    "    # Apply time correction factors\n",
    "    corrected_tally = d1s.apply_time_correction(\n",
    "        tally=dose_tally_from_sp,\n",
    "        time_correction_factors=time_factors,\n",
    "        index=i_cool,\n",
    "        sum_nuclides=True\n",
    "    )\n",
    "    \n",
    "    # this section simply gets the maximum value of the mean tally across all time steps\n",
    "    # and uses this to set the max value of the color bar in the plots\n",
    "    if i_cool == 1:\n",
    "        max_tally_value = max(corrected_tally.mean).flatten()\n",
    "        scaled_max_tally_value = (max_tally_value * pico_to_milli * neutrons_per_second) / volume_normalization\n",
    "\n",
    "    # get a slice of mean values on the xy basis mid z axis\n",
    "    corrected_tally_mean = corrected_tally.get_reshaped_data(value='mean', expand_dims=True).squeeze()\n",
    "    # create a plot of the mean flux values\n",
    "    \n",
    "    scaled_corrected_tally_mean = (corrected_tally_mean * pico_to_milli * neutrons_per_second) / volume_normalization\n",
    "    \n",
    "    plt.imshow(\n",
    "        X=scaled_corrected_tally_mean.T,\n",
    "        origin=\"lower\",\n",
    "        extent=mesh.bounding_box.extent['xy'],\n",
    "        norm=LogNorm(vmin=10e5, vmax=scaled_max_tally_value)\n",
    "    )\n",
    "\n",
    "    plt.xlabel(\"x [cm]\")\n",
    "    plt.ylabel(\"y [cm]\")\n",
    "    plt.colorbar(label=\"Dose [milli Sv per second]\")\n",
    "    plt.title(f\"Dose Rate at time {round(sum(timesteps[1:i_cool+1])/(60*60),2)} hours after irradiation\")\n",
    "    plt.show()\n",
    "    plt.close()\n"
   ]
  },
  {
   "cell_type": "code",
   "execution_count": null,
   "metadata": {},
   "outputs": [],
   "source": []
  }
 ],
 "metadata": {
  "kernelspec": {
   "display_name": ".neutronicsworkshop2",
   "language": "python",
   "name": "python3"
  },
  "language_info": {
   "codemirror_mode": {
    "name": "ipython",
    "version": 3
   },
   "file_extension": ".py",
   "mimetype": "text/x-python",
   "name": "python",
   "nbconvert_exporter": "python",
   "pygments_lexer": "ipython3",
   "version": "3.11.0rc1"
  }
 },
 "nbformat": 4,
 "nbformat_minor": 2
}
