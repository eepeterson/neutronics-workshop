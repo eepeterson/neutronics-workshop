{
 "cells": [
  {
   "cell_type": "markdown",
   "metadata": {},
   "source": [
    "# Shutdown dose rate D1S method different sources (DD+DT)\n",
    "\n",
    "This script simulates D1S method of shut down dose rate on a simple CSG model with one aluminum sphere and one iron sphere.\n",
    "\n",
    "This adds the additional complexity of mixed neutron source terms. In this case we simulate two pulses of neutrons from DD fusion reactions which have energy of 2.5MeV and then a pulse of neutrons from a DT fusion reaction which have neutrons of 14MeV.\n",
    "\n",
    "This need to simulate the activation after different neutron source terms is a common need in fusion power plants which typically plan to start operations without using tritium and gradually work up to full DT operation.\n",
    "\n",
    "You should notice in this example that we have to perform two transport simulating (one for DD and on for DT) then accounting for the combined activation is done by synchronizing pulse schedule so that the decay can be combined from both roots.\n",
    "\n",
    "More details on D1S method in the OpenMC documentation\n",
    "https://docs.openmc.org/en/stable/usersguide/decay_sources.html#direct-1-step-d1s-calculations\n"
   ]
  },
  {
   "cell_type": "code",
   "execution_count": null,
   "metadata": {},
   "outputs": [],
   "source": [
    "\n",
    "import math\n",
    "from pathlib import Path\n",
    "\n",
    "import openmc\n",
    "\n",
    "import numpy as np\n",
    "import matplotlib.pyplot as plt\n",
    "\n",
    "from matplotlib.colors import LogNorm\n",
    "from openmc.deplete import d1s\n",
    "from openmc.data.data import half_life\n",
    "\n",
    "# Setting the cross section path to the correct location in the docker image.\n",
    "# If you are running this outside the docker image you will have to change this path to your local cross section path.\n",
    "openmc.config['cross_sections'] = Path.home() / 'nuclear_data' / 'cross_sections.xml'\n",
    "# the chain file was downloaded with\n",
    "# pip install openmc_data\n",
    "# download_endf_chain -r b8.0\n",
    "openmc.config['chain_file'] = Path.home() / 'nuclear_data' / 'chain-endf-b8.0.xml'\n"
   ]
  },
  {
   "cell_type": "markdown",
   "metadata": {},
   "source": [
    "Make the materials.\n",
    "\n",
    "Note that they don't need the volume setting and don't need to be made depletable. The R2S shutdown dose rate workflow requires both of these to be set."
   ]
  },
  {
   "cell_type": "code",
   "execution_count": null,
   "metadata": {},
   "outputs": [],
   "source": [
    "# We make a iron material which should produce a few activation products\n",
    "mat_iron = openmc.Material()\n",
    "mat_iron.add_nuclide(\"Al27\", 1.0)\n",
    "mat_iron.set_density(\"g/cm3\", 8.0)\n",
    "mat_iron.volume = 2* (4/3) * math.pi**3\n",
    "\n",
    "# We make a Al material which should produce a few different activation products\n",
    "mat_aluminum = openmc.Material()\n",
    "mat_aluminum.add_nuclide(\"Fe56\", 1.0)\n",
    "mat_aluminum.set_density(\"g/cm3\", 2.7)\n",
    "mat_aluminum.volume = 3* (4/3) * math.pi**3"
   ]
  },
  {
   "cell_type": "markdown",
   "metadata": {},
   "source": [
    "Now we make a simple geometry, a cube with two sphere inside.\n",
    "\n",
    "The sphere have different materials and the cube is the edge of the simulation space."
   ]
  },
  {
   "cell_type": "code",
   "execution_count": null,
   "metadata": {},
   "outputs": [],
   "source": [
    "sphere_surf_1 = openmc.Sphere(r=2, y0=10, x0=-10)\n",
    "sphere_region_1 = -sphere_surf_1\n",
    "sphere_cell_1 = openmc.Cell(region=sphere_region_1, fill=mat_iron)\n",
    "\n",
    "sphere_surf_2 = openmc.Sphere(r=3, y0=-10, x0=10)\n",
    "sphere_region_2 = -sphere_surf_2\n",
    "sphere_cell_2 = openmc.Cell(region=sphere_region_2, fill=mat_aluminum)\n",
    "\n",
    "xplane_surf_1 = openmc.XPlane(x0=-20, boundary_type='vacuum')\n",
    "xplane_surf_2 = openmc.XPlane(x0=20, boundary_type='vacuum')\n",
    "yplane_surf_1 = openmc.YPlane(y0=-20, boundary_type='vacuum')\n",
    "yplane_surf_2 = openmc.YPlane(y0=20, boundary_type='vacuum')\n",
    "zplane_surf_1 = openmc.ZPlane(z0=-20, boundary_type='vacuum')\n",
    "zplane_surf_2 = openmc.ZPlane(z0=20, boundary_type='vacuum')\n",
    "sphere_region_3 = +xplane_surf_1 & -xplane_surf_2 & +yplane_surf_1 & -yplane_surf_2  & +zplane_surf_1 & -zplane_surf_2 & +sphere_surf_1 & +sphere_surf_2  # void space\n",
    "sphere_cell_3 = openmc.Cell(region=sphere_region_3)\n",
    "\n",
    "my_geometry = openmc.Geometry([sphere_cell_1, sphere_cell_2, sphere_cell_3])\n",
    "\n",
    "my_materials = openmc.Materials([mat_iron, mat_aluminum])\n"
   ]
  },
  {
   "cell_type": "markdown",
   "metadata": {},
   "source": [
    "Next we make a minimal source term.\n",
    "\n",
    "A 14MeV neutron source that activates material, located in the center of the geometry"
   ]
  },
  {
   "cell_type": "code",
   "execution_count": null,
   "metadata": {},
   "outputs": [],
   "source": [
    "my_source_dd = openmc.IndependentSource()\n",
    "my_source_dd.space = openmc.stats.Point((0, 0, 0))\n",
    "my_source_dd.angle = openmc.stats.Isotropic()\n",
    "my_source_dd.energy = openmc.stats.Discrete([2.5e6], [1])\n",
    "my_source_dd.particle = \"neutron\"\n",
    "\n",
    "my_source_dt = openmc.IndependentSource()\n",
    "my_source_dt.space = openmc.stats.Point((0, 0, 0))\n",
    "my_source_dt.angle = openmc.stats.Isotropic()\n",
    "my_source_dt.energy = openmc.stats.Discrete([14.06e6], [1])\n",
    "my_source_dt.particle = \"neutron\""
   ]
  },
  {
   "cell_type": "markdown",
   "metadata": {},
   "source": [
    "Then we make the simulation settings, note that photon_transport is enabled and a D1S specific setting ```use_decay_photons``` is used"
   ]
  },
  {
   "cell_type": "code",
   "execution_count": null,
   "metadata": {},
   "outputs": [],
   "source": [
    "# settings for the DT neutron simulation with decay photons\n",
    "settings_dd = openmc.Settings()\n",
    "settings_dd.run_mode = \"fixed source\"\n",
    "settings_dd.particles = 1000000\n",
    "settings_dd.batches = 10\n",
    "settings_dd.source = my_source_dd\n",
    "settings_dd.photon_transport = True\n",
    "\n",
    "# D1S specific setting\n",
    "settings_dd.use_decay_photons = True\n",
    "\n",
    "# settings for the DD neutron simulation with decay photons\n",
    "settings_dt = openmc.Settings()\n",
    "settings_dt.run_mode = \"fixed source\"\n",
    "settings_dt.particles = 1000000\n",
    "settings_dt.batches = 10\n",
    "settings_dt.source = my_source_dt\n",
    "settings_dt.photon_transport = True\n",
    "\n",
    "# D1S specific setting\n",
    "settings_dt.use_decay_photons = True"
   ]
  },
  {
   "cell_type": "markdown",
   "metadata": {},
   "source": [
    "We now make the photon dose tally which uses a regular mesh so that we can make a dose map"
   ]
  },
  {
   "cell_type": "code",
   "execution_count": null,
   "metadata": {},
   "outputs": [],
   "source": [
    "# creates a regular mesh that surrounds the geometry for the tally\n",
    "mesh = openmc.RegularMesh().from_domain(\n",
    "    my_geometry,\n",
    "    dimension=[100, 100, 1],\n",
    "    # 100 voxels in x and y axis directions and 1 voxel in z as we want a xy plot\n",
    ")\n",
    "\n",
    "# adding a dose tally on a regular mesh\n",
    "# AP, PA, LLAT, RLAT, ROT, ISO are ICRP incident dose field directions, AP is front facing\n",
    "energies, pSv_cm2 = openmc.data.dose_coefficients(particle=\"photon\", geometry=\"AP\")\n",
    "dose_filter = openmc.EnergyFunctionFilter(\n",
    "    energies, pSv_cm2, interpolation=\"cubic\"  # interpolation method recommended by ICRP\n",
    ")\n",
    "particle_filter = openmc.ParticleFilter([\"photon\"])\n",
    "mesh_filter = openmc.MeshFilter(mesh)\n",
    "dose_tally = openmc.Tally()\n",
    "dose_tally.filters = [particle_filter, mesh_filter, dose_filter]\n",
    "dose_tally.scores = [\"flux\"]\n",
    "dose_tally.name = \"photon_dose_on_mesh\"\n",
    "\n",
    "tallies = openmc.Tallies([dose_tally])"
   ]
  },
  {
   "cell_type": "markdown",
   "metadata": {},
   "source": [
    "Now we make the model and importantly for D1S we prepare the tallies\n",
    "\n",
    "this run runs the neutron and decay photon steps "
   ]
  },
  {
   "cell_type": "code",
   "execution_count": null,
   "metadata": {},
   "outputs": [],
   "source": [
    "\n",
    "model_dd = openmc.Model(my_geometry, my_materials, settings_dd, tallies)\n",
    "model_dt = openmc.Model(my_geometry, my_materials, settings_dt, tallies)\n",
    "\n",
    "# this adds ParentNuclideFilter to each tally, which the D1S method requires\n",
    "d1s.prepare_tallies(model=model_dd)\n",
    "d1s.prepare_tallies(model=model_dt)\n",
    "\n",
    "output_path_dd = model_dd.run(cwd='dd_results')\n",
    "output_path_dt = model_dt.run(cwd='dt_results')"
   ]
  },
  {
   "cell_type": "markdown",
   "metadata": {},
   "source": [
    "Now we read in the tally from the simulation output file"
   ]
  },
  {
   "cell_type": "code",
   "execution_count": null,
   "metadata": {},
   "outputs": [],
   "source": [
    "# Get tally from DD simulation statepoint\n",
    "with openmc.StatePoint(output_path_dd) as sp:\n",
    "    dose_tally_from_sp_dd = sp.get_tally(name='photon_dose_on_mesh')\n",
    "\n",
    "# Get tally from DT simulation statepoint\n",
    "with openmc.StatePoint(output_path_dt) as sp:\n",
    "    dose_tally_from_sp_dt = sp.get_tally(name='photon_dose_on_mesh')"
   ]
  },
  {
   "cell_type": "markdown",
   "metadata": {},
   "source": [
    "Making the time steps and source rates together ensures the time steps for the DD and DT pulses are aligned.\n",
    "\n",
    "This is important to do as, later we need to combine the decay dose from DD pulses and DT pulses for the same point in time."
   ]
  },
  {
   "cell_type": "code",
   "execution_count": null,
   "metadata": {},
   "outputs": [],
   "source": [
    "timesteps_and_source_rates = [\n",
    "    (1, 1e18, 0),  # pulse of DD neutrons\n",
    "    (60*20, 0, 0),  # 20 minutes\n",
    "    (60*20, 0, 0),  # 40 minutes\n",
    "    (60*20, 0, 0),  # 60 minutes\n",
    "    (60*20, 0, 0),  # 80 minutes\n",
    "    (60*20, 0, 0),  # 100 minutes\n",
    "    (1, 1e18, 0),  # pulse of DD neutrons\n",
    "    (60*20, 0, 0),  # 20 minutes\n",
    "    (60*20, 0, 0),  # 40 minutes\n",
    "    (60*20, 0, 0),  # 60 minutes\n",
    "    (60*20, 0, 0),  # 80 minutes\n",
    "    (60*20, 0, 0),  # 100 minutes\n",
    "    (1, 0, 1e19),  # larger pulse of DT neutrons\n",
    "    (60*20, 0, 0),  # 20 minutes\n",
    "    (60*20, 0, 0),  # 40 minutes\n",
    "    (60*20, 0, 0),  # 60 minutes\n",
    "    (60*20, 0, 0),  # 80 minutes\n",
    "    (60*20, 0, 0),  # 100 minutes\n",
    "]\n",
    "\n",
    "timesteps = [item[0] for item in timesteps_and_source_rates]\n",
    "\n",
    "source_rates_dd = [item[1] for item in timesteps_and_source_rates]\n",
    "source_rates_dt = [item[2] for item in timesteps_and_source_rates]"
   ]
  },
  {
   "cell_type": "markdown",
   "metadata": {},
   "source": [
    "This section defines the neutron pulse schedule time steps to take dose tally measurements.\n",
    "\n",
    "Also some D1S specific steps to get the time correction factors that we use to modify the tally result later."
   ]
  },
  {
   "cell_type": "code",
   "execution_count": null,
   "metadata": {},
   "outputs": [],
   "source": [
    "# this gets all the unstable nuclides that can be produced during D1S\n",
    "# both models have the same materials so this function will return the same radionuclides regarless of which model (model_dt or model dd) is passed in.\n",
    "radionuclides = d1s.get_radionuclides(model_dt)\n",
    "\n",
    "# Compute time correction factors based on irradiation schedule\n",
    "time_factors_dd = d1s.time_correction_factors(\n",
    "    nuclides=radionuclides,\n",
    "    timesteps=timesteps,\n",
    "    source_rates=source_rates_dd,\n",
    "    timestep_units = 's'\n",
    ")\n",
    "\n",
    "# Compute time correction factors based on irradiation schedule\n",
    "time_factors_dt = d1s.time_correction_factors(\n",
    "    nuclides=radionuclides,\n",
    "    timesteps=timesteps,\n",
    "    source_rates=source_rates_dt,\n",
    "    timestep_units = 's'\n",
    ")"
   ]
  },
  {
   "cell_type": "markdown",
   "metadata": {},
   "source": [
    "Note the use of ```apply_time_correction``` which is a D1S specific command"
   ]
  },
  {
   "cell_type": "code",
   "execution_count": null,
   "metadata": {},
   "outputs": [],
   "source": [
    "# multiplication by pico_to_milli converts from (pico) pSv to (milli) mSv\n",
    "pico_to_milli = 1e-9\n",
    "\n",
    "# divided by mesh element volume converts from mSv-cm3 to mSv\n",
    "volume_normalization = mesh.volumes[0][0][0]\n",
    "\n",
    "scaled_max_tally_value_all_timesteps = 0\n",
    "corrected_tally_mean_for_each_timestep = []\n",
    "for i_cool in range(1, len(timesteps)):  # missing the first timestep as it is the irradiation step\n",
    "\n",
    "    # Apply time correction factors\n",
    "    # this includes the source_rates which are in units of neutrons per second\n",
    "    # dose_tally_from_sp is in units of pSv-cm3/source neutron\n",
    "    # corrected tally is now in units of pSv-cm3/second\n",
    "    corrected_tally_dd = d1s.apply_time_correction(\n",
    "        tally=dose_tally_from_sp_dd,\n",
    "        time_correction_factors=time_factors_dd,\n",
    "        index=i_cool,\n",
    "        sum_nuclides=True\n",
    "    )\n",
    "    corrected_tally_dt = d1s.apply_time_correction(\n",
    "        tally=dose_tally_from_sp_dt,\n",
    "        time_correction_factors=time_factors_dt,\n",
    "        index=i_cool,\n",
    "        sum_nuclides=True\n",
    "    )\n",
    "\n",
    "    # get a slice of mean values on the xy basis mid z axis\n",
    "    corrected_tally_mean_dd = corrected_tally_dd.get_reshaped_data(value='mean', expand_dims=True).squeeze()\n",
    "    \n",
    "    # get a slice of mean values on the xy basis mid z axis\n",
    "    corrected_tally_mean_dt = corrected_tally_dt.get_reshaped_data(value='mean', expand_dims=True).squeeze()\n",
    "    \n",
    "\n",
    "    corrected_tally_mean = corrected_tally_mean_dd + corrected_tally_mean_dt\n",
    "\n",
    "    corrected_tally_mean_for_each_timestep.append(corrected_tally_mean)\n",
    "\n",
    "    # # this section simply gets the maximum value of the mean tally across all time steps\n",
    "    # # and uses this to set the max value of the color bar in the plots\n",
    "    max_tally_value = max(corrected_tally_mean.flatten())\n",
    "    scaled_max_tally_value = (max_tally_value * pico_to_milli) / volume_normalization\n",
    "\n",
    "    # getting a max value to scale the color bar in the plots later\n",
    "    if scaled_max_tally_value > scaled_max_tally_value_all_timesteps:\n",
    "        scaled_max_tally_value_all_timesteps = scaled_max_tally_value"
   ]
  },
  {
   "cell_type": "markdown",
   "metadata": {},
   "source": [
    "We then plot the tally for each time in the time steps of interest"
   ]
  },
  {
   "cell_type": "code",
   "execution_count": null,
   "metadata": {},
   "outputs": [],
   "source": [
    "for i_cool, corrected_tally_mean in enumerate(corrected_tally_mean_for_each_timestep, start=1):\n",
    "\n",
    "    scaled_corrected_tally_mean = (corrected_tally_mean * pico_to_milli) / volume_normalization\n",
    "\n",
    "    fig, ax1 = plt.subplots(figsize=(6, 4))\n",
    "\n",
    "    # create a plot of the mean flux values\n",
    "    plot_1 = ax1.imshow(\n",
    "        X=scaled_corrected_tally_mean.T,\n",
    "        origin=\"lower\",\n",
    "        extent=mesh.bounding_box.extent['xy'],\n",
    "        norm=LogNorm(vmax=scaled_max_tally_value_all_timesteps, vmin=1e-6),\n",
    "    )\n",
    "\n",
    "    # add the geometry outline to the plot\n",
    "    ax2 = my_geometry.plot(\n",
    "        outline='only',\n",
    "        extent=my_geometry.bounding_box.extent['xy'],\n",
    "        axes=ax1,  # Use the same axis as ax1\n",
    "        pixels=10_000_00,  #avoids rounded corners on outline\n",
    "    )\n",
    "\n",
    "    time_in_mins = round(sum(timesteps[1:i_cool])/(60),2)  # not including the first timestep \n",
    "\n",
    "    ax2.set_xlim(ax1.get_xlim())\n",
    "    ax2.set_ylim(ax1.get_ylim())\n",
    "    ax2.set_aspect(ax1.get_aspect())  # Match aspect ratio\n",
    "    ax2.set_xlabel(\"X (cm)\")\n",
    "    ax2.set_ylabel(\"Y (cm)\")\n",
    "    cbar = plt.colorbar(plot_1, ax=ax1)\n",
    "    cbar.set_label(\"Dose [milli Sv per second]\")  # Label for the color bar\n",
    "    \n",
    "    max_dose_in_timestep = max(scaled_corrected_tally_mean.flatten())\n",
    "    ax2.set_title(f\"Dose Rate at time {time_in_mins} minutes after first irradiation\\nMax dose rate: {max_dose_in_timestep:e} mSv/s\")\n",
    "    cbar.ax.hlines(max_dose_in_timestep, *cbar.ax.get_xlim(), color='red', linewidth=2, label='Max value')\n",
    "\n",
    "    plt.show()\n",
    "    plt.close()"
   ]
  },
  {
   "cell_type": "markdown",
   "metadata": {},
   "source": [
    "One of the really nice aspects of the D1S workflow is the dose values are computed as a post process.\n",
    "\n",
    "This means we don't need to resimulate if we want to change the pulse scheduel"
   ]
  },
  {
   "cell_type": "code",
   "execution_count": null,
   "metadata": {},
   "outputs": [],
   "source": [
    "scaled_max_tally_values = []\n",
    "\n",
    "for corrected_tally_mean in corrected_tally_mean_for_each_timestep:\n",
    "\n",
    "    # this section simply gets the maximum value of the mean tally across all time steps\n",
    "    scaled_max_tally_values.append((max(corrected_tally_mean.flatten())* pico_to_milli) / volume_normalization)"
   ]
  },
  {
   "cell_type": "markdown",
   "metadata": {},
   "source": [
    "This plots the max dose rate at each time step for the 5 pulse decay irradiation.\n",
    "\n",
    "The plot has the shut down dose just after the irradiation and for a few times after each shot to show how the dose decreases.\n",
    "\n",
    "This plot shows shows a sharp drop in the dose rate after the shot, that is caused by some unstable isotopes decaying quickly are the irradiation stops\n",
    "\n",
    "After 5000 seconds the dose rate starts to level out, this is due to longer lived unstable isotopes that have now become the dominant contributor to the dose.\n",
    "\n",
    "We also notice that each shot causes the total dose rate to steadily climb. This is due to the build up of these longer lived unstable isotopes that have not had time to completely decay away before the next pulse of neutrons arrives."
   ]
  },
  {
   "cell_type": "code",
   "execution_count": null,
   "metadata": {},
   "outputs": [],
   "source": [
    "plt.plot(np.cumsum(timesteps[1:]), scaled_max_tally_values)\n",
    "plt.xlabel(\"Time (s)\")\n",
    "plt.yscale(\"log\")\n",
    "plt.ylabel(\"Max Dose Rate (mSv/s)\")\n",
    "plt.title(\"Max Dose Rate Over Time\")\n",
    "plt.grid()\n",
    "plt.show()"
   ]
  },
  {
   "cell_type": "markdown",
   "metadata": {},
   "source": [
    "This next code block loops through the tallies for each time step only this time we set ```sum_nuclides=False```.\n",
    "\n",
    "This allows us to get the individual contributions to the dose tally per nuclide."
   ]
  },
  {
   "cell_type": "code",
   "execution_count": null,
   "metadata": {},
   "outputs": [],
   "source": [
    "\n",
    "scaled_max_tally_values_per_nuclide = {str(nuclide): [] for nuclide in radionuclides}\n",
    "\n",
    "for i_cool in range(1, len(timesteps)):  # missing the first timestep as it is the irradiation step\n",
    "\n",
    "    # Apply time correction factors\n",
    "    # this includes the source_rates which are in units of neutrons per second\n",
    "    # dose_tally_from_sp is in units of pSv-cm3/source neutron\n",
    "    # corrected tally is now in units of pSv-cm3/second\n",
    "    corrected_tally_dd = d1s.apply_time_correction(\n",
    "        tally=dose_tally_from_sp_dd,\n",
    "        time_correction_factors=time_factors_dd,\n",
    "        index=i_cool,\n",
    "        sum_nuclides=False\n",
    "    )\n",
    "    corrected_tally_dt = d1s.apply_time_correction(\n",
    "        tally=dose_tally_from_sp_dt,\n",
    "        time_correction_factors=time_factors_dt,\n",
    "        index=i_cool,\n",
    "        sum_nuclides=False\n",
    "    )\n",
    "\n",
    "    mean_values_per_nuclide_dt = corrected_tally_dt.mean.squeeze().reshape(len(radionuclides), -1)\n",
    "    mean_values_per_nuclide_dd = corrected_tally_dd.mean.squeeze().reshape(len(radionuclides), -1)\n",
    "    \n",
    "    for i_nuclide, nuclide in enumerate(radionuclides):\n",
    "\n",
    "        # this section simply gets the maximum value of the mean tally across all time steps\n",
    "        max_value_for_nuclide_dd = (max(mean_values_per_nuclide_dd[i_nuclide]).flatten()* pico_to_milli) / volume_normalization\n",
    "        max_value_for_nuclide_dt = (max(mean_values_per_nuclide_dt[i_nuclide]).flatten()* pico_to_milli) / volume_normalization\n",
    "\n",
    "        combine_nuclide_number = float(max_value_for_nuclide_dd[0]) + float(max_value_for_nuclide_dt[0])\n",
    "\n",
    "        scaled_max_tally_values_per_nuclide[str(nuclide)].append(combine_nuclide_number)"
   ]
  },
  {
   "cell_type": "markdown",
   "metadata": {},
   "source": [
    "Plotting the dose contribution of the individual isotopes allows us to see that the build up of the longer lived isotopes and identify the main driver for the more long lived dose contribution."
   ]
  },
  {
   "cell_type": "code",
   "execution_count": null,
   "metadata": {},
   "outputs": [],
   "source": [
    "plt.figure(figsize=(12, 8))\n",
    "plt.plot(np.cumsum(timesteps[1:]), scaled_max_tally_values, label='total', linewidth=3)\n",
    "\n",
    "for i, nuclide in enumerate(radionuclides):\n",
    "    nuclide_str = str(nuclide)\n",
    "    if sum(scaled_max_tally_values_per_nuclide[str(nuclide)]) > 2.0:\n",
    "        plt.plot(\n",
    "            np.cumsum(timesteps[1:]),\n",
    "            scaled_max_tally_values_per_nuclide[nuclide_str],\n",
    "            label=f\"{nuclide_str} half-life={half_life(nuclide_str):.1e}s\",\n",
    "            linestyle='--',\n",
    "        )\n",
    "plt.legend()\n",
    "plt.xlabel(\"Time (s)\")\n",
    "plt.yscale('log')\n",
    "# plt.xscale('log')\n",
    "plt.ylabel(\"Max Dose Rate (mSv/s)\")\n",
    "plt.title(\"Max Dose Rate Over Time\")\n",
    "plt.grid()\n",
    "plt.show()"
   ]
  },
  {
   "cell_type": "markdown",
   "metadata": {},
   "source": [
    "Task extension suggestion.\n",
    "\n",
    "You might have observed that the aluminum sphere doesn't get activated during the DD pules.\n",
    "\n",
    "This is visible in the heatmap plots which show aluminum (the larger sphere) not contributing to the dose map in the initial stages.\n",
    "\n",
    "This is because aluminum is not emitting gammas at these time steps.\n",
    "\n",
    "However the iron sphere is emitting gammas at these time steps.\n",
    "\n",
    "Take a look at the cross sections of the two nuclides (Fe56 and Al27) and see if you can identify threshold reactions that require more than 2.5MeV to trigger.\n",
    "\n",
    "Then see if these threshold reactions result in an unstable nuclide that is contributing to the dose only after the DT pulse."
   ]
  },
  {
   "cell_type": "markdown",
   "metadata": {},
   "source": []
  }
 ],
 "metadata": {
  "kernelspec": {
   "display_name": ".neutronicsworkshop",
   "language": "python",
   "name": "python3"
  },
  "language_info": {
   "codemirror_mode": {
    "name": "ipython",
    "version": 3
   },
   "file_extension": ".py",
   "mimetype": "text/x-python",
   "name": "python",
   "nbconvert_exporter": "python",
   "pygments_lexer": "ipython3",
   "version": "3.11.10"
  }
 },
 "nbformat": 4,
 "nbformat_minor": 2
}
