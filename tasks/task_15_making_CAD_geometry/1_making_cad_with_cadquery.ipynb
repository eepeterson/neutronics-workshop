{
 "cells": [
  {
   "cell_type": "markdown",
   "metadata": {},
   "source": [
    "# Making CAD with CadQuery\n",
    "\n",
    "CadQuery is an intuitive, easy-to-use Python module for building parametric 3D CAD models. Using CadQuery, you can write short, simple scripts that produce high quality CAD models. It is easy to make many different objects using a single script that can be customized.\n",
    "\n",
    "More details can be found\n",
    "- On the documentation https://cadquery.readthedocs.io/en/latest/\n",
    "- On GitHub https://github.com/CadQuery/cadquery/\n",
    "\n",
    "CadQuery is particular well suited to fusion neutronics:\n",
    "- CadQuery is used by [cad-to-dagmc](https://github.com/fusion-energy/cad_to_dagmc) to convert CAD geometry to DAGMC neutronics geometry\n",
    "- Cadquery can pass geometry in memory to popular meshing software GMsh\n",
    "- CadQuery can tag surfaces and volumes so that their tags appear in the meshes and can automate boundary condition assignment in engineering workflows\n",
    "- CadQuery is easy to install with pip or conda"
   ]
  },
  {
   "cell_type": "markdown",
   "metadata": {},
   "source": [
    "In this task we are going start by making a few simple CAD shapes"
   ]
  },
  {
   "cell_type": "markdown",
   "metadata": {},
   "source": [
    "First we import cadquery"
   ]
  },
  {
   "cell_type": "code",
   "execution_count": 59,
   "metadata": {},
   "outputs": [],
   "source": [
    "import cadquery as cq"
   ]
  },
  {
   "cell_type": "code",
   "execution_count": null,
   "metadata": {},
   "outputs": [],
   "source": [
    "circle_solid = cq.Workplane(\"XY\").circle(1.0).extrude(3.0)\n",
    "\n",
    "circle_solid"
   ]
  },
  {
   "cell_type": "markdown",
   "metadata": {},
   "source": [
    "More complex shapes can be made that include splines. These types of curves are not available with traditional CSG geometry "
   ]
  },
  {
   "cell_type": "code",
   "execution_count": null,
   "metadata": {},
   "outputs": [],
   "source": [
    "xyz_coordinates = [\n",
    "    (-1.0, -2.0),\n",
    "    (-0.5, 2.0),\n",
    "    (1.0, 3.0),\n",
    "    (2.0, 2.0),\n",
    "]\n",
    "spine_solid = cq.Workplane(\"XY\").spline(listOfXYTuple=xyz_coordinates, periodic=True).close().extrude(0.5)\n",
    "spine_solid"
   ]
  },
  {
   "cell_type": "markdown",
   "metadata": {},
   "source": [
    "Boolean operations are also supported"
   ]
  },
  {
   "cell_type": "code",
   "execution_count": null,
   "metadata": {},
   "outputs": [],
   "source": [
    "cut_spline = spine_solid.cut(circle_solid)\n",
    "cut_spline"
   ]
  },
  {
   "cell_type": "markdown",
   "metadata": {},
   "source": [
    "Assemblies can also be built up to contain several shapes"
   ]
  },
  {
   "cell_type": "code",
   "execution_count": null,
   "metadata": {},
   "outputs": [],
   "source": [
    "assembly = cq.Assembly()\n",
    "assembly.add(circle_solid, color=cq.Color(\"red\"))\n",
    "assembly.add(cut_spline, color=cq.Color(\"blue\"))\n",
    "assembly"
   ]
  },
  {
   "cell_type": "markdown",
   "metadata": {},
   "source": [
    "CAD geometry can also be save to STEP files which are a well supported open standard CAD file format \n"
   ]
  },
  {
   "cell_type": "code",
   "execution_count": null,
   "metadata": {},
   "outputs": [],
   "source": [
    "assembly.export('my-cad-geometry.step')\n",
    "\n",
    "!ls *.step"
   ]
  },
  {
   "cell_type": "markdown",
   "metadata": {},
   "source": [
    "We can also load CAD files with CadQuery"
   ]
  },
  {
   "cell_type": "code",
   "execution_count": null,
   "metadata": {},
   "outputs": [],
   "source": [
    "loaded_shape = cq.importers.importStep('my-cad-geometry.step')\n",
    "loaded_shape"
   ]
  },
  {
   "cell_type": "markdown",
   "metadata": {},
   "source": [
    "The benefits of CAD geometry over CSG are:\n",
    "- CAD can be used to make more complex geometry\n",
    "- CAD can be used by other disciplines (e.g. mechanical engineering)\n",
    "- The void space does not need to be defined when we convert the geometry to a neutronics geomeyty. More on this later\n",
    "\n",
    "The potential disadvantage is that simulations might be slower. However understanding neutron transport algorthiums and building geometry well can help minimise this disadvantage.\n",
    "\n",
    "For more information on CadQuery take a look at the CadQuery examples \n",
    "- https://cadquery.readthedocs.io/en/latest/examples.html\n",
    "- https://cadquery.readthedocs.io/en/latest/free-func.html\n",
    "- https://cadquery.readthedocs.io/en/latest/sketch.html\n",
    "- https://cadquery.readthedocs.io/en/latest/assy.html"
   ]
  },
  {
   "cell_type": "code",
   "execution_count": null,
   "metadata": {},
   "outputs": [],
   "source": [
    "text = cq.Workplane().text(txt=\"GitHub stars are appreciated \", fontsize=10, distance=1)\n",
    "text.export('cad_geometry.step')"
   ]
  },
  {
   "cell_type": "markdown",
   "metadata": {},
   "source": []
  }
 ],
 "metadata": {
  "kernelspec": {
   "display_name": "cq-2.5.2",
   "language": "python",
   "name": "python3"
  },
  "language_info": {
   "codemirror_mode": {
    "name": "ipython",
    "version": 3
   },
   "file_extension": ".py",
   "mimetype": "text/x-python",
   "name": "python",
   "nbconvert_exporter": "python",
   "pygments_lexer": "ipython3",
   "version": "3.12.2"
  }
 },
 "nbformat": 4,
 "nbformat_minor": 2
}
