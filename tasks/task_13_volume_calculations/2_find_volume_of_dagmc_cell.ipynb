{
 "cells": [
  {
   "cell_type": "markdown",
   "metadata": {},
   "source": [
    "# Finding Volume of DAGMC Cell\n",
    "\n",
    "Following on from the task on finding the volume of a CSG cell it is also possible to find the volume of a DAGMC cell.\n",
    "\n",
    "One of the nice features of DAGMC is that we can get the volume without having to run a simulation.\n",
    "\n",
    "There is a nice Python package that we can use for this [https://github.com/svalinn/pydagmc](https://github.com/svalinn/pydagmc)\n",
    "\n",
    "First we import the pydagmc/dagmc Python package"
   ]
  },
  {
   "cell_type": "code",
   "execution_count": null,
   "metadata": {},
   "outputs": [],
   "source": [
    "import pydagmc"
   ]
  },
  {
   "cell_type": "markdown",
   "metadata": {},
   "source": [
    "Then we load up a DAGMC file."
   ]
  },
  {
   "cell_type": "code",
   "execution_count": null,
   "metadata": {},
   "outputs": [],
   "source": [
    "dag_model = pydagmc.Model('dagmc.h5m')"
   ]
  },
  {
   "cell_type": "markdown",
   "metadata": {},
   "source": [
    "We then grab the volume of the first cell"
   ]
  },
  {
   "cell_type": "code",
   "execution_count": null,
   "metadata": {},
   "outputs": [],
   "source": [
    "v1 = dag_model.volumes_by_id[1]  # get volume by id number 1\n",
    "\n",
    "print(f\"{v1}, volume={v1.volume}cm^3\")"
   ]
  },
  {
   "cell_type": "markdown",
   "metadata": {},
   "source": [
    "The volume of materials can also be found.\n",
    "\n",
    "Note this can return multiple volumes as the same material tag can be applied to multiple cells.\n",
    "\n",
    "First we call ```group_names``` to get all the available material names"
   ]
  },
  {
   "cell_type": "code",
   "execution_count": null,
   "metadata": {},
   "outputs": [],
   "source": [
    "dag_model.group_names"
   ]
  },
  {
   "cell_type": "markdown",
   "metadata": {},
   "source": [
    "Then we trim the ```mat:``` prefix from the full material tag ```mat:mat1``` and query the volume of this material tag "
   ]
  },
  {
   "cell_type": "code",
   "execution_count": null,
   "metadata": {},
   "outputs": [],
   "source": [
    "volumes = dag_model.volumes_by_material['mat1']  # get volume by material name\n",
    "\n",
    "# volumes is a list of volumes with that material, so we can iterate over it\n",
    "# and print the volume of each one\n",
    "for volume in volumes:\n",
    "    print(f\"{volume}, volume={volume.volume}cm^3\")"
   ]
  },
  {
   "cell_type": "markdown",
   "metadata": {},
   "source": [
    "The pydagmc package has lots of features that I encourage you to explore.\n",
    "\n",
    "See if you can find the number of cells and the volume of each cell"
   ]
  }
 ],
 "metadata": {
  "kernelspec": {
   "display_name": ".neutronicsworkshop2",
   "language": "python",
   "name": "python3"
  },
  "language_info": {
   "codemirror_mode": {
    "name": "ipython",
    "version": 3
   },
   "file_extension": ".py",
   "mimetype": "text/x-python",
   "name": "python",
   "nbconvert_exporter": "python",
   "pygments_lexer": "ipython3",
   "version": "3.11.0rc1"
  }
 },
 "nbformat": 4,
 "nbformat_minor": 2
}
