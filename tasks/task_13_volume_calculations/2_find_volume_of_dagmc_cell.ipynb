{
 "cells": [
  {
   "cell_type": "markdown",
   "metadata": {},
   "source": [
    "# Finding Volume of DAGMC Cell\n",
    "\n",
    "Following on from the task on finding the volume of a CSG cell it is also possible to find the volume of a DAGMC cell.\n",
    "\n",
    "One of the nice features of DAGMC is that we can get the volume without having to run a simulation.\n",
    "\n",
    "There is a nice Python package that we can use for this [https://github.com/svalinn/pydagmc](https://github.com/svalinn/pydagmc)\n",
    "\n",
    "First we import the pydagmc/dagmc Python package"
   ]
  },
  {
   "cell_type": "code",
   "execution_count": null,
   "metadata": {},
   "outputs": [],
   "source": [
    "import pydagmc"
   ]
  },
  {
   "cell_type": "markdown",
   "metadata": {},
   "source": [
    "Then we load up a DAGMC file."
   ]
  },
  {
   "cell_type": "code",
   "execution_count": null,
   "metadata": {
    "vscode": {
     "languageId": "plaintext"
    }
   },
   "outputs": [],
   "source": [
    "model = pydagmc.Model('dagmc.h5m')"
   ]
  },
  {
   "cell_type": "markdown",
   "metadata": {},
   "source": [
    "We then grab the volume of the first cell"
   ]
  },
  {
   "cell_type": "code",
   "execution_count": null,
   "metadata": {},
   "outputs": [],
   "source": [
    "v1 = model.volumes_by_id[1]  # get volume by id number 1\n",
    "\n",
    "print(v1.volume)  # units are in cm^3"
   ]
  },
  {
   "cell_type": "markdown",
   "metadata": {},
   "source": [
    "The pydagmc package has lots of features that I encourage you to explore.\n",
    "\n",
    "See if you can find the number of cells and the volume of each cell"
   ]
  }
 ],
 "metadata": {
  "language_info": {
   "name": "python"
  }
 },
 "nbformat": 4,
 "nbformat_minor": 2
}
