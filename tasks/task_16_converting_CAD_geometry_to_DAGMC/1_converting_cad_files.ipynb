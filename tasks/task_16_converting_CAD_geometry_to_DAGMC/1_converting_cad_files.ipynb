{
 "cells": [
  {
   "cell_type": "markdown",
   "metadata": {},
   "source": [
    "# Converting CAD geometry to neutronics\n",
    "\n",
    "CAD geometry can be converted with cad-to-dagmc\n",
    "\n",
    "This makes DAGMC geometry which particle transport codes like OpenMC can understand and simulate particle transport through\n",
    "\n",
    "In this example we are going to convert some CAD to a neutronics model and simulate particles\n",
    "\n",
    "Read more about DAGMC geometry here\n",
    "https://svalinn.github.io/DAGMC/\n",
    "\n",
    "First import the package used to convert CAD to DAGMC geometry"
   ]
  },
  {
   "cell_type": "code",
   "execution_count": null,
   "metadata": {},
   "outputs": [],
   "source": [
    "from cad_to_dagmc import CadToDagmc"
   ]
  },
  {
   "cell_type": "markdown",
   "metadata": {},
   "source": [
    "Make a instance of CadToDagmc "
   ]
  },
  {
   "cell_type": "code",
   "execution_count": null,
   "metadata": {},
   "outputs": [],
   "source": [
    "my_model = CadToDagmc()\n"
   ]
  },
  {
   "cell_type": "markdown",
   "metadata": {},
   "source": [
    "Add the step file to the model. This step file contains 6"
   ]
  },
  {
   "cell_type": "code",
   "execution_count": null,
   "metadata": {},
   "outputs": [],
   "source": [
    "my_model.add_stp_file(\n",
    "    filename=\"step_cad_file_for_conversion.step\",\n",
    "    material_tags=[\n",
    "        \"mat1\",\n",
    "        \"mat2\",\n",
    "        \"mat3\",\n",
    "        \"mat4\",\n",
    "        \"mat5\",\n",
    "        \"mat6\",\n",
    "    ],  # 6 volumes one for each letter in the CAD STEP file\n",
    ")\n"
   ]
  },
  {
   "cell_type": "markdown",
   "metadata": {},
   "source": [
    "Now export the DAGMC h5m geometry file that can be used in OpenMC and other codes that support DAGMC\n",
    "\n",
    "The mesh will be made with default meshing parameters"
   ]
  },
  {
   "cell_type": "code",
   "execution_count": null,
   "metadata": {},
   "outputs": [],
   "source": [
    "my_model.export_dagmc_h5m_file(filename=\"dagmc.h5m\")"
   ]
  },
  {
   "cell_type": "markdown",
   "metadata": {},
   "source": [
    "The mesh production was quick but you might want to customise it. For example add extra mesh nods to a particular solid.\n",
    "\n",
    "The next mesh is customised with the set_size argument to have small mesh (size is 0.5) elements for the first solid and large mesh (size is 2.0) for the other solids.\n",
    "\n",
    "You can change the numbers used for each solid to specify different mesh sizes for each solid in the geometry."
   ]
  },
  {
   "cell_type": "code",
   "execution_count": null,
   "metadata": {},
   "outputs": [],
   "source": [
    "my_model.export_dagmc_h5m_file(\n",
    "    filename=\"dagmc.h5m\",\n",
    "    set_size={1:0.5, 2:2.0, 3:2.0, 4:2.0, 5:2.0, 6:2.0},\n",
    ")"
   ]
  },
  {
   "cell_type": "markdown",
   "metadata": {},
   "source": [
    "The resulting DAGMC.h5m can be used in neutronics simulations.\n",
    "\n",
    "For more details of how to convert CAD geometry see then next task which goes over \n",
    "- Additional mesh parameters\n",
    "- 3D volume mesh production\n",
    "- Making a mesh from CAD without writing a file\n",
    "\n",
    "Also take a look at \n",
    "\n",
    "Learning objectives\n",
    "\n",
    " - We learned how to make a simple DAGMC geometry from a STEP CAD file\n",
    " - We learned how to customise the mesh to make it finer on a specific volume ID number"
   ]
  },
  {
   "cell_type": "markdown",
   "metadata": {},
   "source": []
  }
 ],
 "metadata": {
  "kernelspec": {
   "display_name": ".neutronicsworkshop2",
   "language": "python",
   "name": "python3"
  },
  "language_info": {
   "codemirror_mode": {
    "name": "ipython",
    "version": 3
   },
   "file_extension": ".py",
   "mimetype": "text/x-python",
   "name": "python",
   "nbconvert_exporter": "python",
   "pygments_lexer": "ipython3",
   "version": "3.11.0rc1"
  }
 },
 "nbformat": 4,
 "nbformat_minor": 2
}
