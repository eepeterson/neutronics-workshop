{
 "cells": [
  {
   "cell_type": "markdown",
   "id": "d608fad2-d0b4-4d9b-826e-23ef3a9b8f78",
   "metadata": {},
   "source": [
    "This example performs a depletion/transmutation/activation simulation\n",
    "\n",
    "The simulation has been accelerated by making use of the IndependentOperator instead of the CoupledOperator.\n",
    "\n",
    "This is an approximation so is less accurate but it is much faster.\n",
    "\n",
    "This approach performs just a single transport simulation and obtains reactions rates once and assumes that they remain constant.\n",
    "\n",
    "If the materials don't change significantly during the irradiation this is a reasonable approximation.\n",
    "\n",
    "Fission fuel pins would perhaps require the full CoupledOperator while the majority of fusion simulations are suitable for the IndependentOperator\n",
    "\n",
    "More details on both Operators in the docs\n",
    "https://docs.openmc.org/en/stable/usersguide/depletion.html#transport-independent-depletion"
   ]
  },
  {
   "cell_type": "code",
   "execution_count": null,
   "id": "6b2e7872-b0f2-407e-97cf-81d35ce1a799",
   "metadata": {},
   "outputs": [],
   "source": [
    "# remove any old files\n",
    "!rm settings.xm model.xml materials.xml geometry.xml settings.xml\n",
    "\n",
    "import matplotlib.pyplot as plt\n",
    "import openmc\n",
    "import openmc.deplete\n",
    "import math\n",
    "from pathlib import Path\n",
    "# Setting the cross section path to the correct location in the docker image.\n",
    "# If you are running this outside the docker image you will have to change this path to your local cross section path.\n",
    "openmc.config['cross_sections'] = Path.home() / 'nuclear_data' / 'cross_sections.xml'\n",
    "# This chain file was downloaded using the download_endf_chain script that is included in the openmc_data package https://github.com/openmc-data-storage/openmc_data\\n\",\n",
    "# this file tells openmc the decay paths between isotopes including probabilities of different routes and half lives\n",
    "# To download this xml file you can run these commands\n",
    "# pip install openmc_data\n",
    "# download_endf_chain -d nuclear_data -r b8.0\n",
    "openmc.config['chain_file'] = Path.home() / 'nuclear_data' / 'chain-endf-b8.0.xml'"
   ]
  },
  {
   "cell_type": "markdown",
   "id": "b4a8bf6d-2fb7-4334-8ee7-aaff2bbc47a1",
   "metadata": {},
   "source": [
    "Creates a simple material which we will deplete"
   ]
  },
  {
   "cell_type": "code",
   "execution_count": null,
   "id": "cd47ca6f-eb2f-4eb9-a820-6daf3c8a744c",
   "metadata": {},
   "outputs": [],
   "source": [
    "my_material = openmc.Material(material_id=1) \n",
    "my_material.add_element('Ag', 1, percent_type='ao')\n",
    "my_material.set_density('g/cm3', 10.49)"
   ]
  },
  {
   "cell_type": "markdown",
   "id": "6a7f2c1e-7bfa-4989-b121-7f7adcb27539",
   "metadata": {},
   "source": [
    "As we are doing a depletion simulation we must set the material volume and the .depletion to True"
   ]
  },
  {
   "cell_type": "code",
   "execution_count": null,
   "id": "26358235-acce-4fcb-b218-fd91bf4999e5",
   "metadata": {},
   "outputs": [],
   "source": [
    "sphere_radius = 100\n",
    "volume_of_sphere = (4/3) * math.pi * math.pow(sphere_radius, 3)\n",
    "my_material.volume = volume_of_sphere  # a volume is needed so openmc can find the number of atoms in the cell/material\n",
    "my_material.depletable = True  # depletable = True is needed to tell openmc to update the material with each time step\n",
    "materials = openmc.Materials([my_material])"
   ]
  },
  {
   "cell_type": "markdown",
   "id": "6114bb03-95ea-4569-8e7c-6632770812a2",
   "metadata": {},
   "source": [
    "makes a simple sphere surface and cell"
   ]
  },
  {
   "cell_type": "code",
   "execution_count": null,
   "id": "1646dc3b-5b85-44e3-9249-2a8dcc0a4ca1",
   "metadata": {},
   "outputs": [],
   "source": [
    "sph1 = openmc.Sphere(r=sphere_radius, boundary_type='vacuum')\n",
    "shield_cell = openmc.Cell(region=-sph1)\n",
    "shield_cell.fill = my_material\n",
    "geometry = openmc.Geometry([shield_cell])"
   ]
  },
  {
   "cell_type": "markdown",
   "id": "86190213-ce93-4bf1-bc29-19382aea35a3",
   "metadata": {},
   "source": [
    "creates a simple point source"
   ]
  },
  {
   "cell_type": "code",
   "execution_count": null,
   "id": "0bb7f11f-1fb3-4682-96a8-868abcf5aecf",
   "metadata": {},
   "outputs": [],
   "source": [
    "source = openmc.IndependentSource()\n",
    "source.space = openmc.stats.Point((0, 0, 0))\n",
    "source.angle = openmc.stats.Isotropic()\n",
    "source.energy = openmc.stats.Discrete([14e6], [1])\n",
    "source.particles = 'neutron'"
   ]
  },
  {
   "cell_type": "markdown",
   "id": "22070cea-8518-41e9-b860-8194f6884709",
   "metadata": {},
   "source": [
    "defines the simulation settings"
   ]
  },
  {
   "cell_type": "code",
   "execution_count": null,
   "id": "42ae0573-ba79-4e50-a592-56f8d38f7c20",
   "metadata": {},
   "outputs": [],
   "source": [
    "settings = openmc.Settings()\n",
    "settings.batches = 10\n",
    "settings.inactive = 0\n",
    "settings.particles = 1000\n",
    "settings.source = source\n",
    "settings.run_mode = 'fixed source'"
   ]
  },
  {
   "cell_type": "markdown",
   "id": "92f4f6fc-3f05-4106-af1e-6e5a7bc2414d",
   "metadata": {},
   "source": [
    "builds the model combining the materials, geometry and settings into one object"
   ]
  },
  {
   "cell_type": "code",
   "execution_count": null,
   "id": "7739f6b5-4117-4247-9e2e-9554f90d2ab8",
   "metadata": {},
   "outputs": [],
   "source": [
    "model = openmc.Model(geometry, materials, settings)"
   ]
  },
  {
   "cell_type": "markdown",
   "id": "9a32428a-51ab-454e-94e3-14f42b18a1b1",
   "metadata": {},
   "source": [
    "this does perform particle transport but just to get the flux and micro xs"
   ]
  },
  {
   "cell_type": "code",
   "execution_count": null,
   "id": "289778c1-f4e2-47d0-a677-b2e528ac2ed9",
   "metadata": {},
   "outputs": [],
   "source": [
    "flux_in_each_group, micro_xs = openmc.deplete.get_microxs_and_flux(\n",
    "    model=model,\n",
    "    domains=[shield_cell],\n",
    "    energies=[0, 30e6], # one energy bin from 0 to 30MeV\n",
    "    chain_file=openmc.config['chain_file'],\n",
    ")"
   ]
  },
  {
   "cell_type": "markdown",
   "id": "54eb1c03-d8ca-47a3-9f3e-45ddf54d1355",
   "metadata": {},
   "source": [
    "constructing the operator, note we pass in the flux and micro xs calculated earlier"
   ]
  },
  {
   "cell_type": "code",
   "execution_count": null,
   "id": "319d6a5e-ff05-4566-b246-82fc3b232652",
   "metadata": {},
   "outputs": [],
   "source": [
    "operator = openmc.deplete.IndependentOperator(\n",
    "    materials=materials,\n",
    "    fluxes=[i[0] for i in flux_in_each_group],\n",
    "    micros=micro_xs,\n",
    "    reduce_chain=True,  # reduced to only the isotopes present in depletable materials and their possible progeny\n",
    "    reduce_chain_level=5,\n",
    "    normalization_mode=\"source-rate\"\n",
    ")"
   ]
  },
  {
   "cell_type": "markdown",
   "id": "b40792d3-7352-4ac9-b571-bd1849aafc31",
   "metadata": {},
   "source": [
    "We define timesteps together with the source rate to make it clearer"
   ]
  },
  {
   "cell_type": "code",
   "execution_count": null,
   "id": "baf58807-dd7f-47b5-96de-e0659721184d",
   "metadata": {},
   "outputs": [],
   "source": [
    "timesteps_and_source_rates = [\n",
    "    (24, 1e20),\n",
    "    (24, 1e20),\n",
    "    (24, 1e20),\n",
    "    (24, 1e20),\n",
    "    (24, 1e20),  # should saturate Ag110 here as it has been irradiated for over 5 halflives\n",
    "    (24, 1e20),\n",
    "    (24, 1e20),\n",
    "    (24, 1e20),\n",
    "    (24, 1e20),\n",
    "    (24, 0),\n",
    "    (24, 0),\n",
    "    (24, 0),\n",
    "    (24, 0),\n",
    "    (24, 0),\n",
    "    (24, 0),\n",
    "    (24, 0),\n",
    "    (24, 0),\n",
    "    (24, 0),\n",
    "    (24, 0),\n",
    "    (24, 0),\n",
    "]\n",
    "\n",
    "# Uses list Python comprehension to get the timesteps and source_rates separately\n",
    "timesteps = [item[0] for item in timesteps_and_source_rates]\n",
    "source_rates = [item[1] for item in timesteps_and_source_rates]"
   ]
  },
  {
   "cell_type": "markdown",
   "id": "5beeae66-00d1-4e40-9bc3-ffb5d9bfcd5c",
   "metadata": {},
   "source": [
    "construct the integrator"
   ]
  },
  {
   "cell_type": "code",
   "execution_count": null,
   "id": "6ea92d13-c257-455e-93c4-a6827059f45a",
   "metadata": {},
   "outputs": [],
   "source": [
    "integrator = openmc.deplete.PredictorIntegrator(\n",
    "    operator=operator,\n",
    "    timesteps=timesteps,\n",
    "    source_rates=source_rates,\n",
    "    timestep_units='s'\n",
    ")"
   ]
  },
  {
   "cell_type": "markdown",
   "id": "559cfddd-0fcd-4d57-a5a0-395902487749",
   "metadata": {},
   "source": [
    "this runs the depltion calculations for the timesteps"
   ]
  },
  {
   "cell_type": "code",
   "execution_count": null,
   "id": "a2337659-f104-4c2b-ab29-900b45888e48",
   "metadata": {},
   "outputs": [],
   "source": [
    "integrator.integrate()"
   ]
  },
  {
   "cell_type": "markdown",
   "id": "5f900962-bdcf-4ac3-90eb-c1e692d1a118",
   "metadata": {},
   "source": [
    "Loads up the results\n"
   ]
  },
  {
   "cell_type": "code",
   "execution_count": null,
   "id": "bbfea41e-06b9-4ad4-ba0f-4cceba36718b",
   "metadata": {},
   "outputs": [],
   "source": [
    "results = openmc.deplete.Results(\"depletion_results.h5\")"
   ]
  },
  {
   "cell_type": "markdown",
   "id": "c06c548b-5b24-42a0-8311-305458ea8598",
   "metadata": {},
   "source": [
    "Gets the material from the 2nd timestep and shows the composition"
   ]
  },
  {
   "cell_type": "code",
   "execution_count": null,
   "id": "e13480b9-ccd8-4f3d-9faf-b8131c1c3eab",
   "metadata": {},
   "outputs": [],
   "source": [
    "second_time_step = results[2]\n",
    "second_time_step.get_material('1')"
   ]
  },
  {
   "cell_type": "markdown",
   "id": "fa3ec083-6bee-42f7-bb0b-299f66b2f92c",
   "metadata": {},
   "source": [
    "prints the atoms of Ag110 in a table for reach time step"
   ]
  },
  {
   "cell_type": "code",
   "execution_count": null,
   "id": "6046e918-c587-4760-86ac-617a7d4f100b",
   "metadata": {},
   "outputs": [],
   "source": [
    "times, number_of_Ag110_atoms = results.get_atoms(my_material, 'Ag110')\n",
    "for time, num in zip(times, number_of_Ag110_atoms):\n",
    "    print(f\" Time {time}s. Number of Ag110 atoms {num}\")"
   ]
  },
  {
   "cell_type": "code",
   "execution_count": null,
   "id": "f0bed180-59c8-4bb4-bd03-8e85e5348b8c",
   "metadata": {},
   "outputs": [],
   "source": [
    "# plots the number of atoms as a function of time"
   ]
  },
  {
   "cell_type": "code",
   "execution_count": null,
   "id": "ed601f11-deda-4ea3-b31a-1ae0b88b0f59",
   "metadata": {},
   "outputs": [],
   "source": [
    "plt.plot(times, number_of_Ag110_atoms)\n",
    "plt.xlabel('Time [s]')\n",
    "plt.ylabel('Number of Ag110 atoms')\n",
    "plt.show()"
   ]
  },
  {
   "cell_type": "code",
   "execution_count": null,
   "id": "351f1bc3-f867-404a-ae0d-b7c0d09f256b",
   "metadata": {},
   "outputs": [],
   "source": []
  }
 ],
 "metadata": {
  "kernelspec": {
   "display_name": "Python 3 (ipykernel)",
   "language": "python",
   "name": "python3"
  },
  "language_info": {
   "codemirror_mode": {
    "name": "ipython",
    "version": 3
   },
   "file_extension": ".py",
   "mimetype": "text/x-python",
   "name": "python",
   "nbconvert_exporter": "python",
   "pygments_lexer": "ipython3",
   "version": "3.8.16"
  }
 },
 "nbformat": 4,
 "nbformat_minor": 5
}
